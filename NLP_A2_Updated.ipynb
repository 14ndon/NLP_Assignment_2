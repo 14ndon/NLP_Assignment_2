{
 "cells": [
  {
   "cell_type": "code",
   "execution_count": 1,
   "metadata": {},
   "outputs": [],
   "source": [
    "import os\n",
    "import numpy as np\n",
    "import matplotlib.pyplot as plt\n",
    "\n",
    "os.makedirs('./results', exist_ok=True)\n",
    "\n",
    "with open('./brown_100.txt', 'r') as file_:\n",
    "    corpus = file_.read()\n",
    "\n",
    "def write_freqs(list_: list, filename: str) -> None:\n",
    "    with open(f'./results/{filename}.txt', 'w') as file_:\n",
    "        file_.write('\\n'.join([' '.join(x[0]) + ' | ' + str(x[1]) for x in list_]))"
   ]
  },
  {
   "cell_type": "markdown",
   "metadata": {},
   "source": [
    "## N-Gram Language Modeling\n",
    "In the second assignment, you will implement an **n-gram language model** that processes input text to generate, analyze, and calculate the probabilities of sequences of `n` words (n-grams). This model will tokenize text, create n-grams, and compute their frequencies and probabilities, returning the most frequent n-grams in the text.\n",
    "\n",
    "1. **Tokenization**: Convert the input text into a list of words (tokens).\n",
    "2. **N-gram Generation**: Create sequences of `n` tokens from the text, treating each sentence independently with the inclusion of start (`<s>`) and end (`</s>`) markers.\n",
    "3. **Frequency Counting**: Count how many times each n-gram appears in the text.\n",
    "4. **Probability Calculation**: Compute the probabilities of each n-gram based on its frequency and add alpha smoothing to improve generalization of items.\n",
    "5. **Most Frequent N-grams**: Return the most frequent n-grams along with their probabilities, helping to identify common patterns in the text."
   ]
  },
  {
   "cell_type": "code",
   "execution_count": 2,
   "metadata": {},
   "outputs": [],
   "source": [
    "from collections import Counter, defaultdict # You may import more from collections if needed\n",
    "\n",
    "class NGramModel:\n",
    "    def __init__(self, text, n, alpha=0.0):\n",
    "        \"\"\"\n",
    "        Initialize the NGramModel with text and the value of n.\n",
    "        \"\"\"\n",
    "        self.text = text\n",
    "        self.n = n\n",
    "        self.alpha = alpha  # Alpha value for additive smoothing\n",
    "        self.ngrams = {}\n",
    "        self.probabilities = {}\n",
    "        self.vocab = set()\n",
    "        self.vocab_size = float('-inf')\n",
    "\n",
    "    def tokenize(self) -> None:\n",
    "        \"\"\"\n",
    "        Tokenize the text into words. \n",
    "        Fill in the code to split the text into a list of words.\n",
    "        \"\"\"\n",
    "        tokens = []\n",
    "\n",
    "        # split on newlines\n",
    "        sentences = self.text.split('\\n')\n",
    "\n",
    "        # split on spaces, add each token to the list\n",
    "        for sentence in sentences:\n",
    "            tokens.extend(token.lower() for token in sentence.split())\n",
    "\n",
    "        # set the vocab to the unique tokens\n",
    "        self.vocab = set(tokens)\n",
    "\n",
    "        return tokens\n",
    "\n",
    "    def generate_ngrams(self, tokens: list) -> dict:\n",
    "        \"\"\"\n",
    "        Generate n-grams from the list of tokens.\n",
    "        Fill in the code to create n-grams.\n",
    "        Make sure to treat each sentence independently, include the <s> and </s> tokens.\n",
    "\n",
    "        Creates a dictionary that looks like this:\n",
    "        {\n",
    "            ('<s>', 'The'): #,\n",
    "            ('The', 'jury'): #,\n",
    "        }\n",
    "        where in this case n = 2, and # is the number of times the n-gram appears in the text\n",
    "        \"\"\"\n",
    "        self.ngrams = {}\n",
    "\n",
    "        i = 0\n",
    "        # create and count the ngrams\n",
    "        while i < (len(tokens) - self.n + 1):\n",
    "            # using a window of size n, create an n-gram\n",
    "            ngram = tuple(tokens[i:i + self.n])\n",
    "\n",
    "            # if this n-gram is not in the ngrams[n] dict, add it\n",
    "            if ngram not in self.ngrams:\n",
    "                self.ngrams[ngram] = 0\n",
    "\n",
    "            # add this n-gram to the list of n-grams\n",
    "            self.ngrams[ngram] += 1\n",
    "\n",
    "            # if this n-gram ends with an end tag (</s>), move the window + n so we start a new sentence\n",
    "            if ngram[-1] == '</s>':\n",
    "                i += self.n\n",
    "            # if the n-gram ends with a period and the next token is not an end tag, move the window + n so we start a new sentence\n",
    "            elif ngram[-1] == '.' and tokens[i + self.n] != '</s>':\n",
    "                i += self.n\n",
    "            else:\n",
    "                i += 1\n",
    "\n",
    "        return self.ngrams\n",
    "\n",
    "    def count_frequencies(self) -> None:\n",
    "        \"\"\"\n",
    "        Count the frequencies of each n-gram.\n",
    "        Fill in the code to count n-gram occurrences.\n",
    "        \"\"\"\n",
    "        # already counted in generate_ngrams\n",
    "        pass\n",
    "\n",
    "    def calculate_probabilities(self) -> None:\n",
    "        \"\"\"\n",
    "        Calculate probabilities of each n-gram based on its frequency. Add alpha smoothing separately. Store in self.probabilities.\n",
    "        \"\"\"\n",
    "        self.probabilities = {}\n",
    "        prefix_counts = Counter()\n",
    "        if self.n > 1:\n",
    "            for ngram, count in self.ngrams.items():\n",
    "                prefix_counts[ngram[:-1]] += count\n",
    "        \n",
    "        # Get vocabulary size (unique words)\n",
    "        self.vocab_size = len(self.vocab)\n",
    "    \n",
    "        # Calculate smoothed probability for each n-gram\n",
    "        for ngram, count in self.ngrams.items():\n",
    "            if self.n > 1:\n",
    "                # get the prefix of the n-gram\n",
    "                prefix = ngram[:-1]\n",
    "\n",
    "                # get the count of the prefix\n",
    "                prefix_count = prefix_counts[prefix]\n",
    "            else:\n",
    "                prefix_count = sum(self.ngrams.values())\n",
    "\n",
    "            # Apply additive (Laplace) smoothing\n",
    "            # if alpha is 0, then implicitly no smoothing is applied\n",
    "            smoothed_prob = (count + self.alpha) / (prefix_count + self.alpha * self.vocab_size)\n",
    "            self.probabilities[ngram] = smoothed_prob\n",
    "\n",
    "\n",
    "    def most_frequent_ngrams(self, top_n: int = 10) -> list:\n",
    "        \"\"\"\n",
    "        Return the most frequent n-grams and their probabilities.\n",
    "        \n",
    "        Args:\n",
    "            top_n: number of most frequent n-grams to return\n",
    "            \n",
    "        Returns:\n",
    "            list: list of tuples containing the most frequent n-grams and their probabilities\n",
    "        \"\"\"\n",
    "        # Sort n-grams by frequency in descending order\n",
    "        sorted_grams = sorted(self.ngrams.items(), key=lambda x: x[1], reverse=True)\n",
    "        \n",
    "        # Return top_n n-grams with their probabilities\n",
    "        return [(ngram, self.probabilities[ngram]) for ngram, _ in sorted_grams[:top_n]]\n",
    "\n",
    "\n",
    "    def perplexity(self, tokens) -> float:\n",
    "        \"\"\"\n",
    "        Calculate the perplexity of the model on a given list of tokens using log space.\n",
    "        \n",
    "        Args:\n",
    "            tokens: list of tokens to calculate perplexity on\n",
    "            \n",
    "        Returns:\n",
    "            float: perplexity of the model on the given tokens\n",
    "        \"\"\"\n",
    "        # we use log space to avoid underflow\n",
    "        log_prob_sum = 0.0\n",
    "        ngram_count = 0\n",
    "\n",
    "        # iterate through each n-gram sequence to determine the perplexity\n",
    "        for i in range(len(tokens) - self.n + 1):\n",
    "            # create an ngram\n",
    "            ngram = tuple(tokens[i:i + self.n])\n",
    "\n",
    "            # skip ngrams that contain </s> or . (if it ends with </s> or ., it is okay because it is the end of a sentence)\n",
    "            if '</s>' in ngram and '</s>' != ngram[-1]:\n",
    "                continue\n",
    "            if '.' in ngram and '.' != ngram[-1]:\n",
    "                continue\n",
    "\n",
    "            prob = self.probabilities.get(ngram)\n",
    "            ngram_count += 1\n",
    "\n",
    "            # if the ngram is not in the model, assign it a smoothed probability\n",
    "            if prob is None:\n",
    "                prefix_count = sum(self.ngrams.get(key) for key in self.ngrams.keys() if key[:-1] == ngram[:-1])\n",
    "\n",
    "                # if alpha is not 0, use add-k smoothing\n",
    "                if self.alpha != 0:\n",
    "                    log_prob_sum += self.alpha / (prefix_count + self.alpha * self.vocab_size)\n",
    "                else:\n",
    "                    # otherwise, assign it a probability of 1e-10\n",
    "                    log_prob_sum += np.log(1e-10)\n",
    "            else:\n",
    "                log_prob_sum += np.log(prob)\n",
    "\n",
    "        return np.exp( -log_prob_sum / ngram_count) if ngram_count > 0 else float('inf')"
   ]
  },
  {
   "cell_type": "markdown",
   "metadata": {},
   "source": [
    "### Unigrams\n",
    "\n",
    "In this section, we apply the `NGramModel` to our corpus. The model can be configured to generate unigrams, bigrams, or trigrams by adjusting the value of `n`. After tokenizing the text and generating the n-grams, the model counts the occurrences of each n-gram and calculates their probabilities. The most frequent n-grams are then written to an output file.\n",
    "\n",
    "By adjusting the n-gram size, we can analyze different levels of word dependencies in the text, providing insights into common word sequences and patterns.  \n",
    "\n",
    "The code below will generate unigrams when the NGramModel is implemented correctly"
   ]
  },
  {
   "cell_type": "code",
   "execution_count": 3,
   "metadata": {},
   "outputs": [
    {
     "name": "stdout",
     "output_type": "stream",
     "text": [
      "perplexity:  258.60807994290553\n"
     ]
    }
   ],
   "source": [
    "n = 1  # You can change this to 1, 2, or 3 for uni, bi, or trigrams\n",
    "model = NGramModel(corpus, n)\n",
    "\n",
    "tokens = model.tokenize()\n",
    "ngrams = model.generate_ngrams(tokens)\n",
    "model.count_frequencies()\n",
    "model.calculate_probabilities()\n",
    "\n",
    "write_freqs(model.most_frequent_ngrams(10), 'unigrams')\n",
    "print(\"perplexity: \", model.perplexity(tokens))"
   ]
  },
  {
   "cell_type": "markdown",
   "metadata": {},
   "source": [
    "### Bigrams\n",
    "Bigrams allow us to explore word pairs and their relationships, providing insight into common word combinations and phrase structures within the corpus.  \n",
    "The code below will generate bigrams when the NGramModel is implemented correctly."
   ]
  },
  {
   "cell_type": "code",
   "execution_count": 4,
   "metadata": {},
   "outputs": [
    {
     "name": "stdout",
     "output_type": "stream",
     "text": [
      "perplexity:  5.559044119704413\n"
     ]
    }
   ],
   "source": [
    "n = 2  # You can change this to 1, 2, or 3 for uni, bi, or trigrams\n",
    "model = NGramModel(corpus, n)\n",
    "\n",
    "tokens = model.tokenize()\n",
    "ngrams = model.generate_ngrams(tokens)\n",
    "model.count_frequencies()\n",
    "model.calculate_probabilities()\n",
    "\n",
    "write_freqs(model.most_frequent_ngrams(10), 'bigrams')\n",
    "print(\"perplexity: \", model.perplexity(tokens))"
   ]
  },
  {
   "cell_type": "markdown",
   "metadata": {},
   "source": [
    "### Trigrams\n",
    "Trigrams capture three-word sequences, providing a deeper understanding of longer word dependencies and commonly occurring phrases within the text.  \n",
    "The code below will generate trigrams when the NGramModel is implemented correctly"
   ]
  },
  {
   "cell_type": "code",
   "execution_count": 5,
   "metadata": {},
   "outputs": [
    {
     "name": "stdout",
     "output_type": "stream",
     "text": [
      "perplexity:  1.3234697351446851\n"
     ]
    }
   ],
   "source": [
    "n = 3  # You can change this to 1, 2, or 3 for uni, bi, or trigrams\n",
    "model = NGramModel(corpus, n)\n",
    "\n",
    "tokens = model.tokenize()\n",
    "ngrams = model.generate_ngrams(tokens)\n",
    "model.count_frequencies()\n",
    "model.calculate_probabilities()\n",
    "\n",
    "write_freqs(model.most_frequent_ngrams(10), 'trigrams')\n",
    "print(\"perplexity: \", model.perplexity(tokens))"
   ]
  },
  {
   "cell_type": "markdown",
   "metadata": {},
   "source": [
    "### Smoothing\n",
    "Below, we generate **bigrams** with **smoothing** applied by setting `n = 2` and including a smoothing parameter `alpha = 1.0`. Smoothing is useful in language models to handle unseen n-grams by assigning a small probability to them. The model tokenizes the text, generates bigrams, counts their frequencies, and calculates smoothed probabilities. The most frequent bigrams are then written to an output file.\n",
    "\n",
    "\n",
    "\n"
   ]
  },
  {
   "cell_type": "code",
   "execution_count": 6,
   "metadata": {},
   "outputs": [
    {
     "name": "stdout",
     "output_type": "stream",
     "text": [
      "perplexity:  330.5814843763977\n"
     ]
    }
   ],
   "source": [
    "n = 2  # You can change this to 1, 2, or 3 for uni, bi, or trigrams\n",
    "model = NGramModel(corpus, n, alpha=1.0)\n",
    "\n",
    "tokens = model.tokenize()\n",
    "ngrams = model.generate_ngrams(tokens)\n",
    "model.count_frequencies()\n",
    "model.calculate_probabilities()\n",
    "\n",
    "write_freqs(model.most_frequent_ngrams(10), 'bigrams_smoothed')\n",
    "print(\"perplexity: \", model.perplexity(tokens))"
   ]
  },
  {
   "cell_type": "markdown",
   "metadata": {},
   "source": [
    "### Generating Text\n",
    "In this example, we generate text using the **bigrams** model by providing a starting **prompt** (e.g., \"the jury\"). The `generate_text` function creates a sequence of words based on the trained bigram model, starting from the provided prompt and continuing based on the probabilities of the next words.\n",
    "\n",
    "After tokenizing the corpus, generating bigrams, and calculating their frequencies and probabilities, the model uses these learned probabilities to generate text. The generated output is then written to a file.\n",
    "\n",
    "Text generation with n-grams helps illustrate how language models can predict word sequences, allowing us to create new sentences that follow similar patterns found in the original text."
   ]
  },
  {
   "cell_type": "code",
   "execution_count": 7,
   "metadata": {},
   "outputs": [],
   "source": [
    "def generate_text(model: NGramModel, n: int, prompt: str) -> str:\n",
    "    \"\"\"\n",
    "    Generate text using the n-gram model starting from the given prompt.\n",
    "    \n",
    "    Args:\n",
    "        model: The trained n-gram model\n",
    "        n: The size of n-grams to use\n",
    "        prompt: The starting text to continue from\n",
    "        \n",
    "    Returns:\n",
    "        A string of generated text\n",
    "    \"\"\"\n",
    "    generated_tokens = prompt.split()\n",
    "    \n",
    "    max_length = len(generated_tokens) + n # Prevent infinite generation\n",
    "    while len(generated_tokens) < max_length:\n",
    "        # Get the last n-1 tokens as context\n",
    "        context = tuple(generated_tokens[-(n-1):]) if n > 1 else tuple()\n",
    "        \n",
    "        # Find all possible next tokens based on the context\n",
    "        possible_next = []\n",
    "        for ngram, prob in model.probabilities.items():\n",
    "            if ngram[:-1] == context:\n",
    "                possible_next.append((ngram[-1], prob))\n",
    "        \n",
    "        if not possible_next:\n",
    "            break  # No possible continuation\n",
    "            \n",
    "        # Choose next token based on probabilities\n",
    "        next_token = max(possible_next, key=lambda x: x[1])[0]\n",
    "\n",
    "        # Add the chosen token\n",
    "        generated_tokens.append(next_token)\n",
    "        \n",
    "        # Stop if we reach a sentence end\n",
    "        if next_token == '</s>':\n",
    "            break\n",
    "            \n",
    "    return ' '.join(generated_tokens)\n",
    "\n",
    "tokens = model.tokenize()\n",
    "ngrams = model.generate_ngrams(tokens)\n",
    "model.count_frequencies()\n",
    "model.calculate_probabilities()\n",
    "generated_text = generate_text(model, 2, 'the jury')\n",
    "with open(f'./results/generated_bigrams.txt', 'w') as file_:\n",
    "    file_.write(generated_text)"
   ]
  },
  {
   "cell_type": "markdown",
   "metadata": {},
   "source": [
    "## Word Vectors\n",
    "Based on the Stanford course: https://web.stanford.edu/class/cs224n/"
   ]
  },
  {
   "cell_type": "markdown",
   "metadata": {},
   "source": [
    "### Count based W2V\n",
    "In this section, we use the previously trained **n-gram model** to calculate a **co-occurrence matrix**. A co-occurrence matrix shows how often words appear together within a specific context (in this case, bigrams), providing insights into word relationships in the corpus.\n",
    "\n",
    "Steps:\n",
    "1. **Tokenization and N-gram Generation**: We first tokenize the text and generate bigrams using the `NGramModel`.\n",
    "2. **Vocabulary and Indexing**: The vocabulary is created from the unique tokens, and a word-to-index mapping is established.\n",
    "3. **Co-occurrence Matrix**: Using the generated n-grams, we compute the co-occurrence matrix, where each entry represents how often two words occur together within the bigrams.\n",
    "\n",
    "The co-occurrence matrix provides a numerical representation of word relationships, which is useful for tasks like word embeddings, semantic analysis, and understanding word associations."
   ]
  },
  {
   "cell_type": "code",
   "execution_count": 8,
   "metadata": {},
   "outputs": [
    {
     "name": "stdout",
     "output_type": "stream",
     "text": [
      "[[0. 0. 0. ... 0. 0. 0.]\n",
      " [0. 0. 0. ... 0. 0. 0.]\n",
      " [0. 0. 0. ... 0. 0. 0.]\n",
      " ...\n",
      " [0. 0. 0. ... 0. 0. 0.]\n",
      " [0. 0. 0. ... 0. 0. 0.]\n",
      " [0. 0. 0. ... 0. 0. 0.]]\n"
     ]
    }
   ],
   "source": [
    "# Since we already have a working ngram model, for the next part we can use the ngrams to calculate the co-occurences.\n",
    "model = NGramModel(corpus, 2)\n",
    "tokens = model.tokenize()\n",
    "ngrams = model.generate_ngrams(tokens)\n",
    "\n",
    "def create_co_matrix(ngrams: list, vocab_size: int, word_to_index: dict) -> np.ndarray:\n",
    "    co_matrix = np.zeros((vocab_size, vocab_size)) # Initalize matrix\n",
    "    for ngram, count in ngrams.items(): # Loop over bigrams\n",
    "        if len(ngram) == 2:\n",
    "            i = word_to_index[ngram[0]]\n",
    "            j = word_to_index[ngram[1]]\n",
    "            co_matrix[i][j] += count\n",
    "    return co_matrix # Output co-occurance matrix\n",
    "\n",
    "vocab = list(set(tokens))\n",
    "vocab_size = len(vocab)\n",
    "\n",
    "# Create a word-to-index mapping\n",
    "word_to_index = {word: idx for idx, word in enumerate(vocab)}\n",
    "\n",
    "# Generate the co-occurrence matrix\n",
    "co_matrix = create_co_matrix(ngrams, vocab_size, word_to_index)\n",
    "\n",
    "# Optionally, print the matrix or parts of it\n",
    "print(co_matrix) # Adapted to print out the entire co_matrix"
   ]
  },
  {
   "cell_type": "markdown",
   "metadata": {},
   "source": [
    "With the code below you can verify if the co-occurence works"
   ]
  },
  {
   "cell_type": "code",
   "execution_count": 9,
   "metadata": {},
   "outputs": [
    {
     "name": "stdout",
     "output_type": "stream",
     "text": [
      "Co-occurrence count for 'the' and 'jury': 13.0\n",
      "One or both words 'the' and 'cat' are not in the vocabulary.\n"
     ]
    }
   ],
   "source": [
    "def check_co_occurrence(word1, word2, co_matrix, word_to_index):\n",
    "    \"\"\"\n",
    "    Print the co-occurrence count for a specific word pair.\n",
    "    \"\"\"\n",
    "    if word1 not in word_to_index or word2 not in word_to_index:\n",
    "        print(f\"One or both words '{word1}' and '{word2}' are not in the vocabulary.\")\n",
    "        return\n",
    "\n",
    "    index1 = word_to_index[word1]\n",
    "    index2 = word_to_index[word2]\n",
    "\n",
    "    co_count = co_matrix[index1][index2]\n",
    "    print(f\"Co-occurrence count for '{word1}' and '{word2}': {co_count}\")\n",
    "\n",
    "check_co_occurrence('the', 'jury', co_matrix, word_to_index)\n",
    "check_co_occurrence('the', 'cat', co_matrix, word_to_index)"
   ]
  },
  {
   "cell_type": "markdown",
   "metadata": {},
   "source": [
    "In this part, we reduce the dimensionality of the **co-occurrence matrix** using **Singular Value Decomposition (SVD)**. This technique helps in extracting the most important features from the matrix, making it easier to visualize and interpret the relationships between words.\n",
    "\n",
    "Steps:\n",
    "1. **Singular Value Decomposition (SVD)**: The co-occurrence matrix is decomposed into three matrices: \\( M = U \\cdot \\Sigma \\cdot V^T \\).\n",
    "2. **Dimensionality Reduction**: We retain only the top `k` components (default is 2) from the SVD, effectively reducing the dimensionality of the matrix.\n",
    "3. **Reduced Matrix**: The reduced matrix retains the most important semantic information and can be used for tasks such as **word embedding visualization** or **semantic similarity analysis**.\n",
    "\n",
    "Dimensionality reduction allows us to capture the essence of word relationships in fewer dimensions, making it more efficient to process and visualize the data."
   ]
  },
  {
   "cell_type": "code",
   "execution_count": 10,
   "metadata": {},
   "outputs": [],
   "source": [
    "def reduce_to_k_dim(M, k=2):\n",
    "    U, S, Vh = np.linalg.svd(M, full_matrices=False) # Perform SVD\n",
    "    M_reduced = U[:, :k] * S[:k] # Reduce to k dimensions\n",
    "    return M_reduced # Output reduced matrix"
   ]
  },
  {
   "cell_type": "markdown",
   "metadata": {},
   "source": [
    "In this final part, we visualize the reduced word embeddings in **2D space**. After reducing the dimensionality of the co-occurrence matrix using SVD, we plot the embeddings for each word to observe their relationships in a low-dimensional space.\n",
    "\n",
    "Steps:\n",
    "1. **Plotting the Embeddings**: Each word from the vocabulary is plotted based on its 2D coordinates from the reduced matrix.\n",
    "2. **Visualization**: The scatter plot allows us to see how words cluster together or relate to each other based on co-occurrences in the text. Words with similar contexts should appear closer to each other in the plot.\n",
    "3. **Interpretation**: By looking at the 2D plot, we can analyze word similarities, relationships, and clusters formed by words that often occur together.\n",
    "\n",
    "This visualization is a useful tool for understanding the structure of word embeddings and the relationships between words in the corpus.\n",
    "\n",
    "\n",
    "\n",
    "\n",
    "\n"
   ]
  },
  {
   "cell_type": "code",
   "execution_count": 11,
   "metadata": {},
   "outputs": [
    {
     "data": {
      "image/png": "[encoded data removed]",
      "text/plain": [
       "<Figure size 1000x1000 with 1 Axes>"
      ]
     },
     "metadata": {},
     "output_type": "display_data"
    }
   ],
   "source": [
    "def plot_embeddings(M_reduced, words, word_to_index):\n",
    "    plt.figure(figsize=(10, 10))\n",
    "    for word in words: # Plot word embeddings based on 2D coordinates from reduced matrix\n",
    "        if word in word_to_index:\n",
    "            idx = word_to_index[word]\n",
    "            x, y = M_reduced[idx, 0], M_reduced[idx, 1]\n",
    "            plt.scatter(x, y, marker='x', color='blue')\n",
    "            plt.text(x, y, word, fontsize=10, alpha=0.8)\n",
    "        else: # Notify if word is missing from vocabulary\n",
    "            print(f\"'{word}' missing from vocabulary\")\n",
    "            plt.title(\"Reduced Word Embeddings Visualization\", fontsize=14)\n",
    "    plt.xlabel(\"PC 1\", fontsize=12)\n",
    "    plt.ylabel(\"PC 2\", fontsize=12)\n",
    "    plt.grid(alpha=0.3)\n",
    "    plt.show()\n",
    "\n",
    "# Example usage:\n",
    "reduced_matrix = reduce_to_k_dim(co_matrix) # Generate reduced matrix\n",
    "\n",
    "example_words = ['jury','election','law','rally','mayor','funds','welfare','man','wife','vote','campaign','state', 'court', 'together', 'son', 'daughter'] # Selected words from brown_100 text\n",
    "\n",
    "plot_embeddings(reduced_matrix, example_words, word_to_index)"
   ]
  },
  {
   "cell_type": "markdown",
   "metadata": {},
   "source": [
    "## Prediction-Based Word Vectors\n",
    "In this section, we load pre-trained word vectors using the **GloVe** embeddings from the [Stanford NLP paper on GloVe](https://nlp.stanford.edu/pubs/glove.pdf). The pre-trained embeddings provide rich semantic information about words based on large text corpora, allowing us to represent words as vectors that capture their meaning and relationships.\n",
    "\n",
    "Steps:\n",
    "1. **Load GloVe Word Vectors**: We use the GloVe embeddings from the `glove-wiki-gigaword-200` model, which has 200-dimensional vectors for each word.\n",
    "2. **Vocabulary Matching**: We map the words from our corpus to the GloVe vocabulary and extract the corresponding vectors.\n",
    "3. **Dimensionality Reduction**: After obtaining the word vectors, we reduce the dimensionality to visualize the embeddings in 2D space, allowing us to explore word relationships visually.\n",
    "\n",
    "This is an excellent opportunity to explore how pre-trained embeddings like GloVe can be used to improve downstream NLP tasks by providing richer word representations."
   ]
  },
  {
   "cell_type": "code",
   "execution_count": 12,
   "metadata": {},
   "outputs": [
    {
     "name": "stdout",
     "output_type": "stream",
     "text": [
      "Loaded vocab size 400000\n",
      "rendering M based on wv\n",
      "rendering M based on unique_tokens\n"
     ]
    }
   ],
   "source": [
    "# Do not edit\n",
    "import gensim.downloader as api\n",
    "import numpy as np\n",
    "wv_from_bin = api.load(\"glove-wiki-gigaword-200\")\n",
    "print(\"Loaded vocab size %i\" % len(list(wv_from_bin.index_to_key)))\n",
    "\n",
    "wv_words = list(wv_from_bin.index_to_key)\n",
    "unique_tokens = set(tokens)\n",
    "word2ind = {}\n",
    "M = []\n",
    "idx = 0\n",
    "print('rendering M based on wv')\n",
    "for w in wv_words:\n",
    "    try:\n",
    "        M.append(wv_from_bin.get_vector(w))\n",
    "        word2ind[w] = idx\n",
    "        idx += 1\n",
    "    except:\n",
    "        pass\n",
    "\n",
    "print('rendering M based on unique_tokens')\n",
    "for w in unique_tokens:\n",
    "    if w in wv_words:\n",
    "        continue\n",
    "    try:\n",
    "        M.append(wv_from_bin.get_vector(w))\n",
    "        word2ind[w] = idx\n",
    "        idx += 1\n",
    "    except:\n",
    "        pass\n",
    "M = np.stack(M)\n",
    "M_reduced = reduce_to_k_dim(M, k=2)\n",
    "\n",
    "M_lengths = np.linalg.norm(M_reduced, axis=1)\n",
    "M_reduced_normalized = M_reduced / M_lengths[:, np.newaxis]"
   ]
  },
  {
   "cell_type": "markdown",
   "metadata": {},
   "source": [
    "### Compare plots\n",
    "What stands out when comparing the two different ways of embedding using the given words?\n",
    "\n",
    "(Use this to help answer the question in your assignment document).\n"
   ]
  },
  {
   "cell_type": "markdown",
   "metadata": {},
   "source": [
    "In both the count-based and prediction-based embedding plots, we see that there is a general relation between distance of words in the plots and semantic relationship (i.e., more closely related words tend to cluster together). However, in the count-based plot, there is a more scattered distribution across the 2 principal components, with some closely semantically related words (e.g., court, jury, election) placed far from others. In the prediction-based plot, the same words appear much more tightly clustered. Given that this plot contains the pre-trained word vectors from a large text corpora, these GloVe embeddings likely captures global word co-occurrence statistics better than the ‘brown_100’ (which only contains the first 100 sentences from the Brown corpus). Furthermore, while GloVe embeddings leverage global co-occurrence matrices, the count-based W2V models local context windows (in the form of bigrams) and therefore may not generalize as well for words that co-occur frequently in different parts of the corpus. This embedding space therefore reflects a stronger semantic relationship between words.\n",
    "\n",
    "When comparing the two plots, it is also important to call out the effect of using normalized vectors for the prediction-based embedding plot. Here, the original magnitude (length) of vectors has been normalized to 1. Therefore, semantic similarity is captured through angles between vectors (rather than Euclidean distance in the count-based embedding plot).\n"
   ]
  },
  {
   "cell_type": "code",
   "execution_count": 20,
   "metadata": {},
   "outputs": [
    {
     "data": {
      "image/png": "[encoded data removed]",
      "text/plain": [
       "<Figure size 1000x1000 with 1 Axes>"
      ]
     },
     "metadata": {},
     "output_type": "display_data"
    },
    {
     "data": {
      "image/png": "[encoded data removed]",
      "text/plain": [
       "<Figure size 1000x1000 with 1 Axes>"
      ]
     },
     "metadata": {},
     "output_type": "display_data"
    }
   ],
   "source": [
    "plot_embeddings(reduced_matrix, example_words, word_to_index) # Count-based W2V Plot\n",
    "plot_embeddings(M_reduced_normalized, example_words, word2ind) # Prediction-based GloVe Plot"
   ]
  },
  {
   "cell_type": "markdown",
   "metadata": {},
   "source": [
    "### Words with multiple meanings\n",
    "Polysemes and homonyms are words that have more than one meaning (see [this wiki page](https://en.wikipedia.org/wiki/Polysemy) to learn more about the difference between polysemes and homonyms). Your task is to find a word with at least two different meanings such that the top-10 most similar words (according to cosine similarity) contain related words from both meanings.\n",
    "\n",
    "For example:\n",
    "- \"leaves\" has both the \"go_away\" and \"a_structure_of_a_plant\" meanings in the top 10.\n",
    "- \"scoop\" has both \"handed_waffle_cone\" and \"lowdown\" meanings in the top 10.\n",
    "\n",
    "You will probably need to try several polysemous or homonymic words before you find one.\n",
    "\n",
    "Once you discover a word that fits this criterion, state the word and explain the multiple meanings that occur in the top 10. Reflect on why many of the polysemous or homonymic words you tried didn’t work (i.e., why the top-10 most similar words only contain one of the word's meanings).\n",
    "\n",
    "**Note**: Use the `wv_from_bin.most_similar(word)` function to get the top 10 most similar words. This function ranks all other words in the vocabulary based on their cosine similarity to the given word. For further assistance, you can refer to the [Gensim documentation](https://radimrehurek.com/gensim/models/keyedvectors.html)."
   ]
  },
  {
   "cell_type": "code",
   "execution_count": null,
   "metadata": {},
   "outputs": [],
   "source": [
    "print(\"Words similar to 'bright':\")\n",
    "print(wv_from_bin.most_similar(\"bright\", topn=10))\n",
    "\n",
    "print(\"Words similar to 'bow':\")\n",
    "print(wv_from_bin.most_similar(\"bow\", topn=10))"
   ]
  },
  {
   "cell_type": "markdown",
   "metadata": {},
   "source": [
    "From the output above, ‘bow’ has multiple meanings represented in its top 10 most similar words. One meaning relates to archery or weaponry, as seen in similar words like ‘arrow’. Another meaning of ‘bow’ refers to a physical gesture of bending the body, typically as a sign of respect or greeting. This meaning is reflected in similar words like ‘bend’ or ‘curtsy’, which may be associated with the act of lowering one’s head. A third meaning is nautical, where ‘bow’ denotes the front of a ship. This is reflected by the word ‘starboard’, a directional term used in maritime contexts.\n",
    "\n",
    "In contrast, the word ‘bright’, meaning both ‘intelligent’ and ‘vivid in color’ only shows related terms for the latter meaning in its top 10 most similar words. Words such as colors, yellow, blue, green, pink, brighter, brightly, and light all emphasize visual brightness or illumination, while dark serves as a contrasting term. There is no indication of the ‘intelligent’ meaning (e.g., ‘the bright pupil’), suggesting that the word embedding model used is dominated by one interpretation.\n",
    "\n",
    "This discrepancy likely highlights a broader issue in working with polysemous or homonymic words. In many cases, one sense is much more common or contextually emphasized in the training data (e.g., bright most often used in the context of lightness or color rather than intelligence), so the embedding space reflects only that dominant meaning. In contrast, ‘bow’ demonstrates more equal frequency across its primary meanings, allowing multiple interpretations to emerge clearly in its nearest neighbors.\n"
   ]
  },
  {
   "cell_type": "markdown",
   "metadata": {},
   "source": [
    "### Synonyms\n",
    "When considering **Cosine Similarity**, it's often useful to think of **Cosine Distance**, which is simply 1 - Cosine Similarity.\n",
    "\n",
    "Find three words \\( (w_1, w_2, w_3) \\) where:\n",
    "- \\(w_1\\) and \\(w_2\\) are **synonyms**.\n",
    "- \\(w_1\\) and \\(w_3\\) are **antonyms**.\n",
    "\n",
    "However, you need to find a case where **Cosine Distance** \\( (w_1, w_3) < \\text{Cosine Distance} (w_1, w_2) \\). In other words, the antonym is **closer** to the word than its synonym in the vector space.\n",
    "\n",
    "For example, \"happy\" (\\(w_1\\)) may be closer to \"sad\" (\\(w_3\\)) than to \"cheerful\" (\\(w_2\\)), which is counter-intuitive since we expect synonyms to be closer than antonyms. \n",
    "\n",
    "Once you find such an example, provide a possible explanation for why this result may have occurred.\n",
    "\n",
    "Use the `wv_from_bin.distance(w1, w2)` function to compute the cosine distance between two words. You can refer to the [Gensim documentation](https://radimrehurek.com/gensim/models/keyedvectors.html) for further assistance.\n",
    "\n",
    "\n",
    "\n",
    "\n",
    "\n"
   ]
  },
  {
   "cell_type": "code",
   "execution_count": 15,
   "metadata": {},
   "outputs": [
    {
     "name": "stdout",
     "output_type": "stream",
     "text": [
      "Synonym Cosine Distance - 'cold' and 'frosty':\n",
      "0.5487740337848663\n",
      "Antonym Cosine Distance - 'cold' and 'hot':\n",
      "0.40621888637542725\n"
     ]
    }
   ],
   "source": [
    "print(\"Synonym Cosine Distance - 'cold' and 'frosty':\")\n",
    "print(wv_from_bin.distance(\"cold\", \"frosty\"))\n",
    "\n",
    "print(\"Antonym Cosine Distance - 'cold' and 'hot':\")\n",
    "print(wv_from_bin.distance(\"cold\", \"hot\"))"
   ]
  },
  {
   "cell_type": "markdown",
   "metadata": {},
   "source": [
    "From the output above, the cosine distance between the synonyms ‘cold’ and ‘frosty’ is 0.5488. In comparison, the cosine distance between the antonyms ‘cold’ and ‘hot’ is 0.4062. This means that, in the underlying GloVe vector space, ‘cold’ is closer to ‘hot’ than to ‘frosty’, despite the semantic relationship in temperature suggesting the opposite.\n",
    "\n",
    "This counterintuitive result can be explained by how word embeddings are trained. These models capture relatedness through frequency of shared contextual usage (and not direct semantic meaning). Words like ‘cold’ and ‘hot’ often appear in similar contexts (e.g., the eponymous Katy Perry classic “Hot N Cold”) because they are part of common antonymic pairs used to describe the same concepts. As a result, they develop similar distributional patterns, leading to closer vectors. On the other hand, ‘frosty’ might occur in more niche or less frequent contexts (e.g., ‘frosty morning’ or ‘frosty greeting’) that don't overlap as much with ‘cold’ (or at least not as frequently as ‘hot’), leading to a larger cosine distance despite their synonymous meaning."
   ]
  },
  {
   "cell_type": "markdown",
   "metadata": {},
   "source": [
    "### Analogies\n",
    "Word vectors have demonstrated the ability to solve analogies based on their learned semantic relationships. For instance, consider the analogy: \n",
    "\n",
    "**\"man : grandfather :: woman : x\"** \n",
    "\n",
    "(Read: man is to grandfather as woman is to x). Using word vectors, we can find the word \\(x\\) that completes the analogy.\n",
    "\n",
    "In the example provided, we use the `most_similar` function from the Gensim library. This function identifies words that are most similar to the words in the positive list and most dissimilar to those in the negative list. For analogy solving, it effectively computes:\n",
    "\n",
    "\\[ \\text{word}(x) = \\text{most similar to} (\\text{woman} + \\text{grandfather} - \\text{man}) \\]\n",
    "\n",
    "The result is the word with the highest cosine similarity to the target vector. You can use this approach to explore various analogies and gain insights into the semantic structure of word vectors.\n",
    "\n",
    "Refer to the [Gensim documentation](https://radimrehurek.com/gensim/models/keyedvectors.html) for more details on the `most_similar` function and how word vectors handle analogy-solving tasks."
   ]
  },
  {
   "cell_type": "code",
   "execution_count": 16,
   "metadata": {},
   "outputs": [
    {
     "name": "stdout",
     "output_type": "stream",
     "text": [
      "[('grandmother', 0.7608445286750793), ('granddaughter', 0.7200808525085449), ('daughter', 0.7168302536010742), ('mother', 0.7151536345481873), ('niece', 0.7005682587623596), ('father', 0.6659887433052063), ('aunt', 0.6623408794403076), ('grandson', 0.6618767976760864), ('grandparents', 0.6446609497070312), ('wife', 0.644535481929779)]\n"
     ]
    }
   ],
   "source": [
    "# Run this cell to answer the analogy -- man : grandfather :: woman : x\n",
    "print(wv_from_bin.most_similar(positive=['woman', 'grandfather'], negative=['man']))"
   ]
  },
  {
   "cell_type": "markdown",
   "metadata": {},
   "source": [
    "### Bias in word vectors\n",
    "a. **Observation**: Consider the results of a word vector model when queried with analogies involving \"man\", \"woman\", and \"profession\". What are the top results returned by the model for each query?\n",
    "\n",
    "For the query involving ‘man’ and ‘profession’, the top related words include:\n",
    "‘reputation’, ‘professions’, ‘skill’, ‘skills’, ‘ethic’, ‘business’, ‘respected’, ‘practice’, ‘regarded’, and ‘life’.\n",
    "\n",
    "For the query involving \"woman\" and \"profession\", the top related words include:\n",
    "‘professions’, ‘practitioner’, ‘teaching’, ‘nursing’, ‘vocation’, ‘teacher’, ‘practicing’, ‘educator’, ‘physicians’, and ‘professionals’.\n",
    "\n",
    "b. **Analysis**: Do you observe any gender biases in the results? For example, are certain professions more closely associated with \"man\" or \"woman\" based on the word vectors? Discuss how word embeddings might perpetuate societal biases present in the training data.\n",
    "\n",
    "As based on the output above, I do observe a noticeable gender bias. The word vectors associate ‘woman’ more with caregiving or teaching professions (e.g., nursing, teacher, educator) and \"man\" more with high-status terms (e.g., reputation, skill, ethic, respected). This reflects common societal stereotypes, where women are often linked to roles in education and healthcare, while men are associated with prestige and leadership.\n",
    "\n",
    "This pattern likely stems from biases in the training data, which may overrepresent these associations due to their frequency in news articles, books, or other texts used to train the word vector model. Since word embeddings learn from co-occurrence patterns in language, they tend to replicate and even amplify existing societal biases.\n",
    "\n",
    "c. **Reflection**: How might such biases affect the fairness of machine learning models that use word embeddings? Suggest potential strategies for mitigating gender bias in word vector models.\n",
    "\n",
    "As demonstrated by the gender biases reflected above, biases in word vector models can significantly impact the fairness and reliability of ML systems. For example, biased embeddings may cause automated resume filters to favor male candidates for leadership roles (detecting characteristics associated with ‘skill’ and ‘reputation’), while overlooking equally qualified female candidates. Similarly, in translation services, a language with gender agnostic pronouns may be translated to reflect historically gendered roles (e.g., “he is a CEO” vs. “she is a teacher”). Given that AI is “only as good as its data” [1], curating balanced training data that includes diverse and representative examples of men and women across a wide range of professions could help mitigate bias and word vector models. Another approach involves applying debiasing algorithms, which remove gender-related components from word vectors. For instance, the Limisiewicz et al.’s DAMA algorithm uses causal tracing to identify biased components and applies linear projections to specific layers in a model to effectively reduce gender bias without compromising overall performance [2]. Overall, removing bias in NLP systems is a complex challenge that involves not only identifying and mitigating deeply embedded societal stereotypes in training data, but also balancing fairness with the preservation of model performance.\n",
    "\n",
    "Sources:\n",
    "\n",
    "[1] Zou, J. (2022, January 25). Data-centric AI: AI models are only as good as their data pipeline. Stanford Institute for Human-Centered Artificial Intelligence. https://hai.stanford.edu/news/data-centric-ai-ai-models-are-only-good-their-data-pipeline\n",
    "\n",
    "[2] Limisiewicz, T., Mareček, D., & Musil, T. (2024). Debiasing Algorithm through Model Adaptation. Proceedings of the International Conference on Learning Representations (ICLR). Retrieved from https://github.com/tomlimi/DAMA\n"
   ]
  },
  {
   "cell_type": "code",
   "execution_count": 17,
   "metadata": {},
   "outputs": [
    {
     "name": "stdout",
     "output_type": "stream",
     "text": [
      "[('reputation', 0.5250176787376404), ('professions', 0.5178037881851196), ('skill', 0.49046966433525085), ('skills', 0.49005505442619324), ('ethic', 0.4897659420967102), ('business', 0.487585186958313), ('respected', 0.485920250415802), ('practice', 0.4821045696735382), ('regarded', 0.4778572618961334), ('life', 0.4760662019252777)]\n",
      "\n",
      "[('professions', 0.5957458019256592), ('practitioner', 0.4988412857055664), ('teaching', 0.48292139172554016), ('nursing', 0.48211804032325745), ('vocation', 0.4788965880870819), ('teacher', 0.47160351276397705), ('practicing', 0.4693780839443207), ('educator', 0.46524327993392944), ('physicians', 0.4628995656967163), ('professionals', 0.46013936400413513)]\n"
     ]
    }
   ],
   "source": [
    "print(wv_from_bin.most_similar(positive=['man', 'profession'], negative=['woman']))\n",
    "print()\n",
    "print(wv_from_bin.most_similar(positive=['woman', 'profession'], negative=['man']))"
   ]
  }
 ],
 "metadata": {
  "kernelspec": {
   "display_name": "nlp_venv",
   "language": "python",
   "name": "python3"
  },
  "language_info": {
   "codemirror_mode": {
    "name": "ipython",
    "version": 3
   },
   "file_extension": ".py",
   "mimetype": "text/x-python",
   "name": "python",
   "nbconvert_exporter": "python",
   "pygments_lexer": "ipython3",
   "version": "3.10.13"
  }
 },
 "nbformat": 4,
 "nbformat_minor": 2
}
