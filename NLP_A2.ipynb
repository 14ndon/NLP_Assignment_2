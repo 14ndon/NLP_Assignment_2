{
 "cells": [
  {
   "cell_type": "code",
   "execution_count": 3,
   "metadata": {},
   "outputs": [
    {
     "ename": "ModuleNotFoundError",
     "evalue": "No module named 'matplotlib'",
     "output_type": "error",
     "traceback": [
      "\u001b[0;31m---------------------------------------------------------------------------\u001b[0m",
      "\u001b[0;31mModuleNotFoundError\u001b[0m                       Traceback (most recent call last)",
      "Cell \u001b[0;32mIn[1], line 3\u001b[0m\n\u001b[1;32m      1\u001b[0m \u001b[38;5;28;01mimport\u001b[39;00m \u001b[38;5;21;01mos\u001b[39;00m\n\u001b[1;32m      2\u001b[0m \u001b[38;5;28;01mimport\u001b[39;00m \u001b[38;5;21;01mnumpy\u001b[39;00m \u001b[38;5;28;01mas\u001b[39;00m \u001b[38;5;21;01mnp\u001b[39;00m\n\u001b[0;32m----> 3\u001b[0m \u001b[38;5;28;01mimport\u001b[39;00m \u001b[38;5;21;01mmatplotlib\u001b[39;00m\u001b[38;5;21;01m.\u001b[39;00m\u001b[38;5;21;01mpyplot\u001b[39;00m \u001b[38;5;28;01mas\u001b[39;00m \u001b[38;5;21;01mplt\u001b[39;00m\n\u001b[1;32m      5\u001b[0m os\u001b[38;5;241m.\u001b[39mmakedirs(\u001b[38;5;124m'\u001b[39m\u001b[38;5;124m./results\u001b[39m\u001b[38;5;124m'\u001b[39m, exist_ok\u001b[38;5;241m=\u001b[39m\u001b[38;5;28;01mTrue\u001b[39;00m)\n\u001b[1;32m      7\u001b[0m \u001b[38;5;28;01mwith\u001b[39;00m \u001b[38;5;28mopen\u001b[39m(\u001b[38;5;124m'\u001b[39m\u001b[38;5;124m./brown_100.txt\u001b[39m\u001b[38;5;124m'\u001b[39m, \u001b[38;5;124m'\u001b[39m\u001b[38;5;124mr\u001b[39m\u001b[38;5;124m'\u001b[39m) \u001b[38;5;28;01mas\u001b[39;00m file_:\n",
      "\u001b[0;31mModuleNotFoundError\u001b[0m: No module named 'matplotlib'"
     ]
    }
   ],
   "source": [
    "import os\n",
    "import numpy as np\n",
    "import matplotlib.pyplot as plt\n",
    "\n",
    "os.makedirs('./results', exist_ok=True)\n",
    "\n",
    "with open('./brown_100.txt', 'r') as file_:\n",
    "    corpus = file_.read()\n",
    "\n",
    "def write_freqs(list_: list, filename: str) -> None:\n",
    "    with open(f'./results/{filename}.txt', 'w') as file_:\n",
    "        file_.write('\\n'.join([' '.join(x[0]) + ' | ' + str(x[1]) for x in list_]))"
   ]
  },
  {
   "cell_type": "markdown",
   "metadata": {},
   "source": [
    "## N-Gram Language Modeling\n",
    "In the second assignment, you will implement an **n-gram language model** that processes input text to generate, analyze, and calculate the probabilities of sequences of `n` words (n-grams). This model will tokenize text, create n-grams, and compute their frequencies and probabilities, returning the most frequent n-grams in the text.\n",
    "\n",
    "1. **Tokenization**: Convert the input text into a list of words (tokens).\n",
    "2. **N-gram Generation**: Create sequences of `n` tokens from the text, treating each sentence independently with the inclusion of start (`<s>`) and end (`</s>`) markers.\n",
    "3. **Frequency Counting**: Count how many times each n-gram appears in the text.\n",
    "4. **Probability Calculation**: Compute the probabilities of each n-gram based on its frequency and add alpha smoothing to improve generalization of items.\n",
    "5. **Most Frequent N-grams**: Return the most frequent n-grams along with their probabilities, helping to identify common patterns in the text."
   ]
  },
  {
   "cell_type": "code",
<<<<<<< Updated upstream
   "execution_count": null,
=======
   "execution_count": 14,
>>>>>>> Stashed changes
   "metadata": {},
   "outputs": [],
   "source": [
    "from collections import Counter, defaultdict # You may import more from collections if needed\n",
    "\n",
    "class NGramModel:\n",
    "    def __init__(self, text, n, alpha=0.0):\n",
    "        \"\"\"\n",
    "        Initialize the NGramModel with text and the value of n.\n",
    "        \"\"\"\n",
    "        self.text = text\n",
    "        self.n = n\n",
    "        self.alpha = alpha  # Alpha value for additive smoothing\n",
    "        self.ngrams = {}\n",
    "        self.probabilities = {}\n",
    "        self.vocab = set()\n",
    "\n",
    "    def tokenize(self) -> None:\n",
    "        \"\"\"\n",
    "        Tokenize the text into words. \n",
    "        Fill in the code to split the text into a list of words.\n",
    "        \"\"\"\n",
<<<<<<< Updated upstream
=======
    "        tokens = []\n",
    "\n",
    "        # split on newlines\n",
    "        sentences = self.text.split('\\n')\n",
    "\n",
    "        # split on spaces, add each token to the list\n",
    "        for sentence in sentences:\n",
    "            tokens.extend([token.lower() for token in sentence.split()])\n",
    "\n",
    "        # set the vocab to the unique tokens\n",
    "        self.vocab = set(tokens)\n",
>>>>>>> Stashed changes
    "\n",
    "        raise NotImplementedError\n",
    "    \n",
    "        return tokens\n",
    "\n",
    "    def generate_ngrams(self, tokens: list) -> dict:\n",
    "        \"\"\"\n",
    "        Generate n-grams from the list of tokens.\n",
    "        Fill in the code to create n-grams.\n",
    "        Make sure to treat each sentence independently, include the <s> and </s> tokens.\n",
    "        \"\"\"\n",
    "        raise NotImplementedError\n",
    "\n",
    "        return self.ngrams\n",
    "\n",
    "    def count_frequencies(self) -> None:\n",
    "        \"\"\"\n",
    "        Count the frequencies of each n-gram.\n",
    "        Fill in the code to count n-gram occurrences.\n",
    "        \"\"\"\n",
    "\n",
    "        raise NotImplementedError\n",
    "\n",
    "    def calculate_probabilities(self) -> None:\n",
    "        \"\"\"\n",
    "        Calculate probabilities of each n-gram based on its frequency. Add alpha smoothing separately.\n",
    "        \"\"\"\n",
<<<<<<< Updated upstream
=======
    "        self.probabilities = {}\n",
    "        prefix_counts = Counter()\n",
    "        if self.n > 1:\n",
    "            for ngram, count in self.ngrams.items():\n",
    "                prefix_counts[ngram[:-1]] += count\n",
    "\n",
    "        print(prefix_counts)\n",
    "        \n",
    "        # Get vocabulary size (unique words)\n",
    "        vocab_size = len(self.vocab)\n",
    "\n",
    "        print(vocab_size)\n",
    "    \n",
    "        # Calculate smoothed probability for each n-gram\n",
    "        for ngram, count in self.ngrams.items():\n",
    "            if self.n > 1:\n",
    "                # get the prefix of the n-gram\n",
    "                prefix = ngram[:-1]\n",
    "\n",
    "                # get the count of the prefix\n",
    "                prefix_count = prefix_counts[prefix]\n",
    "            else:\n",
    "                prefix_count = sum(self.ngrams.values())\n",
    "\n",
    "            # Apply additive (Laplace) smoothing\n",
    "            # if alpha is 0, then implicitly no smoothing is applied\n",
    "            smoothed_prob = (count + self.alpha) / (prefix_count + self.alpha * vocab_size)\n",
    "            self.probabilities[ngram] = smoothed_prob\n",
>>>>>>> Stashed changes
    "\n",
    "        raise NotImplementedError\n",
    "\n",
    "    def most_frequent_ngrams(self, top_n: int = 10) -> list:\n",
    "        \"\"\"\n",
    "        Return the most frequent n-grams and their probabilities.\n",
    "        \"\"\"\n",
    "\n",
    "        raise NotImplementedError\n",
    "    \n",
    "        return sorted_grams\n",
    "\n",
    "# Testing the model with an example\n",
    "text = \"This is a simple example to demonstrate how n-grams work in this assignment.\" #Faster than running the full corpus\n",
    "n = 2  # You can change this to 1, 2, or 3 for uni, bi, or trigrams\n",
    "model = NGramModel(text, n)\n",
    "\n",
    "tokens = model.tokenize()\n",
    "ngrams = model.generate_ngrams(tokens)\n",
    "model.count_frequencies()\n",
    "model.calculate_probabilities()\n",
    "\n",
    "# Print the most frequent n-grams\n",
    "print(model.most_frequent_ngrams(10))"
   ]
  },
  {
   "cell_type": "markdown",
   "metadata": {},
   "source": [
    "### Unigrams\n",
    "\n",
    "In this section, we apply the `NGramModel` to our corpus. The model can be configured to generate unigrams, bigrams, or trigrams by adjusting the value of `n`. After tokenizing the text and generating the n-grams, the model counts the occurrences of each n-gram and calculates their probabilities. The most frequent n-grams are then written to an output file.\n",
    "\n",
    "By adjusting the n-gram size, we can analyze different levels of word dependencies in the text, providing insights into common word sequences and patterns.  \n",
    "\n",
    "The code below will generate unigrams when the NGramModel is implemented correctly"
   ]
  },
  {
   "cell_type": "code",
<<<<<<< Updated upstream
   "execution_count": null,
=======
   "execution_count": 15,
>>>>>>> Stashed changes
   "metadata": {},
   "outputs": [
    {
     "name": "stdout",
     "output_type": "stream",
     "text": [
      "Counter()\n",
      "813\n"
     ]
    }
   ],
   "source": [
    "n = 1  # You can change this to 1, 2, or 3 for uni, bi, or trigrams\n",
    "model = NGramModel(corpus, n)\n",
    "\n",
    "tokens = model.tokenize()\n",
    "ngrams = model.generate_ngrams(tokens)\n",
    "model.count_frequencies()\n",
    "model.calculate_probabilities()\n",
    "\n",
    "write_freqs(model.most_frequent_ngrams(10), 'unigrams')"
   ]
  },
  {
   "cell_type": "markdown",
   "metadata": {},
   "source": [
    "### Bigrams\n",
    "Bigrams allow us to explore word pairs and their relationships, providing insight into common word combinations and phrase structures within the corpus.  \n",
    "The code below will generate bigrams when the NGramModel is implemented correctly."
   ]
  },
  {
   "cell_type": "code",
<<<<<<< Updated upstream
   "execution_count": null,
=======
   "execution_count": 16,
>>>>>>> Stashed changes
   "metadata": {},
   "outputs": [
    {
     "name": "stdout",
     "output_type": "stream",
     "text": [
      "Counter({('the',): 156, ('<s>',): 100, ('.',): 89, (',',): 88, ('of',): 67, ('to',): 55, ('a',): 54, ('in',): 40, ('and',): 40, ('``',): 35, (\"''\",): 34, ('that',): 28, ('said',): 24, ('for',): 22, ('be',): 21, ('it',): 19, ('jury',): 18, ('was',): 18, ('county',): 15, ('fulton',): 14, ('election',): 14, ('will',): 14, ('which',): 13, ('as',): 13, ('is',): 12, ('state',): 12, ('his',): 12, ('there',): 11, ('by',): 10, ('on',): 10, ('has',): 10, ('city',): 9, ('this',): 9, ('department',): 9, ('at',): 9, ('would',): 9, ('resolution',): 9, ('funds',): 8, ('been',): 7, ('he',): 7, ('highway',): 7, ('an',): 6, ('these',): 6, ('should',): 6, ('with',): 6, ('some',): 6, ('new',): 6, ('not',): 6, ('who',): 6, ('rural',): 6, ('bonds',): 6, ('atlanta',): 5, ('are',): 5, ('have',): 5, ('its',): 5, ('work',): 5, ('hartsfield',): 5, ('williams',): 5, ('pelham',): 5, ('republicans',): 5, ('--',): 5, ('campaign',): 5, ('monday',): 5, ('million',): 5, ('issue',): 5, ('being',): 5, ('house',): 5, ('school',): 5, ('grand',): 4, ('friday',): 4, ('primary',): 4, ('no',): 4, ('place',): 4, ('committee',): 4, ('court',): 4, ('received',): 4, ('voters',): 4, (\"georgia's\",): 4, ('or',): 4, ('recommended',): 4, ('legislators',): 4, ('legislature',): 4, ('welfare',): 4, ('federal',): 4, ('one',): 4, ('from',): 4, ('1',): 4, ('night',): 4, ('mayor',): 4, ('petition',): 4, ('candidate',): 4, ('after',): 4, ('georgia',): 4, ('race',): 4, ('vote',): 4, ('first',): 4, ('gov.',): 4, ('expected',): 4, ('vandiver',): 4, ('roads',): 4, ('irregularities',): 3, ('had',): 3, ('term',): 3, ('jr.',): 3, ('number',): 3, ('act',): 3, ('practices',): 3, ('both',): 3, ('however',): 3, ('two',): 3, ('law',): 3, ('also',): 3, ('but',): 3, ('they',): 3, ('under',): 3, ('into',): 3, ('elected',): 3, ('when',): 3, ('added',): 3, ('jail',): 3, ('(',): 3, (')',): 3, ('2',): 3, ('listed',): 3, (\"mayor's\",): 3, ('more',): 3, ('chairman',): 3, ('texas',): 3, ('out',): 3, ('whether',): 3, ('make',): 3, ('must',): 3, ('bond',): 3, ('worth',): 3, ('action',): 3, ('increase',): 3, ('education',): 3, ('barber',): 3, ('superintendent',): 3, ('i',): 3, ('davis',): 3, ('bush',): 3, ('ordinary',): 3, ('polls',): 3, ('anonymous',): 3, ('calls',): 3, (\"atlanta's\",): 2, ('took',): 2, ('executive',): 2, ('charge',): 2, ('manner',): 2, ('charged',): 2, ('superior',): 2, ('reports',): 2, ('ivan',): 2, ('allen',): 2, ('such',): 2, ('interest',): 2, ('did',): 2, ('many',): 2, ('laws',): 2, ('them',): 2, ('commented',): 2, ('other',): 2, ('purchasing',): 2, ('departments',): 2, ('operated',): 2, ('follow',): 2, ('proposed',): 2, ('administration',): 2, ('personnel',): 2, ('urged',): 2, ('take',): 2, ('implementation',): 2, ('provide',): 2, ('enabling',): 2, ('so',): 2, ('orderly',): 2, ('general',): 2, ('program',): 2, ('through',): 2, ('counties',): 2, ('exception',): 2, ('none',): 2, ('money',): 2, ('jurors',): 2, ('our',): 2, ('we',): 2, ('future',): 2, ('portion',): 2, ('wards',): 2, ('citizens',): 2, ('airport',): 2, ('jan.',): 2, ('political',): 2, ('ask',): 2, ('deputies',): 2, (':',): 2, ('four',): 2, ('additional',): 2, ('employed',): 2, ('permit',): 2, ('plan',): 2, ('tax',): 2, ('office',): 2, ('william',): 2, ('b.',): 2, ('suit',): 2, ('wife',): 2, ('couple',): 2, ('griffin',): 2, ('property',): 2, ('attorney',): 2, ('age',): 2, ('than',): 2, ('year',): 2, ('home',): 2, ('back',): 2, ('succeeded',): 2, ('sept.',): 2, ('enter',): 2, ('meeting',): 2, ('held',): 2, ('tuesday',): 2, ('blue',): 2, ('ridge',): 2, ('audience',): 2, ('party',): 2, ('up',): 2, ('governor',): 2, ('petitions',): 2, ('voting',): 2, ('despite',): 2, ('asked',): 2, ('voted',): 2, ('were',): 2, ('says',): 2, ('before',): 2, ('per',): 2, ('candidates',): 2, ('system',): 2, ('caldwell',): 2, ('public',): 2, ('resigned',): 2, ('time',): 2, ('session',): 2, ('approved',): 2, ('adjournment',): 2, ('senate',): 2, ('made',): 2, ('priority',): 2, ('construction',): 2, ('test',): 2, ('then',): 2, ('source',): 2, ('authority',): 2, ('revolving',): 2, ('fund',): 2, ('apparently',): 2, ('rep.',): 2, ('offer',): 2, ('rescind',): 2, ('sunday',): 2, ('privilege',): 2, ('passed',): 2, ('pay',): 2, ('raises',): 2, ('veteran',): 2, ('legislator',): 2, ('like',): 2, ('board',): 2, ('teacher',): 2, ('colquitt',): 2, ('controversy',): 2, ('miller',): 2, ('policeman',): 2, ('coolest',): 2, ('ever',): 2, ('saw',): 2, ('felix',): 2, ('got',): 2, (\"didn't\",): 2, ('bit',): 2, ('trouble',): 2, ('himself',): 2, ('sheriff',): 2, ('investigation',): 1, ('recent',): 1, ('produced',): 1, ('evidence',): 1, ('any',): 1, ('further',): 1, ('term-end',): 1, ('presentments',): 1, ('over-all',): 1, ('deserves',): 1, ('praise',): 1, ('thanks',): 1, ('conducted',): 1, ('september-october',): 1, ('judge',): 1, ('durwood',): 1, ('pye',): 1, ('investigate',): 1, ('possible',): 1, ('hard-fought',): 1, ('won',): 1, ('mayor-nominate',): 1, ('only',): 1, ('relative',): 1, ('handful',): 1, ('considering',): 1, ('widespread',): 1, ('size',): 1, ('find',): 1, ('registration',): 1, ('outmoded',): 1, ('inadequate',): 1, ('often',): 1, ('ambiguous',): 1, ('studied',): 1, ('revised',): 1, ('end',): 1, ('modernizing',): 1, ('improving',): 1, ('topics',): 1, ('among',): 1, ('well',): 1, ('generally',): 1, ('accepted',): 1, ('inure',): 1, ('best',): 1, ('governments',): 1, ('merger',): 1, ('believes',): 1, ('offices',): 1, ('combined',): 1, ('achieve',): 1, ('greater',): 1, ('efficiency',): 1, ('reduce',): 1, ('cost',): 1, ('lacking',): 1, ('experienced',): 1, ('clerical',): 1, ('result',): 1, ('policies',): 1, ('steps',): 1, ('remedy',): 1, ('problem',): 1, ('automobile',): 1, ('title',): 1, ('outgoing',): 1, ('next',): 1, ('re-set',): 1, ('effective',): 1, ('date',): 1, ('may',): 1, ('effected',): 1, ('swipe',): 1, (\"department's\",): 1, ('handling',): 1, ('granted',): 1, ('child',): 1, ('services',): 1, ('foster',): 1, ('homes',): 1, ('major',): 1, ('items',): 1, ('assistance',): 1, ('seen',): 1, ('fit',): 1, ('distribute',): 1, ('all',): 1, ('receives',): 1, ('realize',): 1, ('proportionate',): 1, ('distribution',): 1, ('might',): 1, ('disable',): 1, ('less',): 1, ('populous',): 1, ('nevertheless',): 1, ('feel',): 1, ('receive',): 1, ('available',): 1, ('failure',): 1, ('do',): 1, ('continue',): 1, ('disproportionate',): 1, ('burden',): 1, ('taxpayers',): 1, (\"ordinary's\",): 1, ('fire',): 1, ('appointment',): 1, ('appraisers',): 1, ('guardians',): 1, ('administrators',): 1, ('awarding',): 1, ('fees',): 1, ('compensation',): 1, ('protected',): 1, ('found',): 1, ('incorporated',): 1, ('operating',): 1, ('procedures',): 1, ('recommendations',): 1, ('previous',): 1, ('juries',): 1, ('bar',): 1, ('association',): 1, ('interim',): 1, ('actions',): 1, ('serve',): 1, ('protect',): 1, ('fact',): 1, ('effect',): 1, (\"court's\",): 1, ('undue',): 1, ('costs',): 1, ('appointed',): 1, ('servants',): 1, ('unmeritorious',): 1, ('criticisms',): 1, ('regarding',): 1, ('multi-million-dollar',): 1, ('management',): 1, ('takes',): 1, ('eliminate',): 1, ('influences',): 1, ('elaborate',): 1, ('periodic',): 1, ('surveillance',): 1, ('pricing',): 1, ('concessionaires',): 1, ('purpose',): 1, ('keeping',): 1, ('prices',): 1, ('reasonable',): 1, ('matters',): 1, ('doctor',): 1, ('medical',): 1, ('intern',): 1, ('extern',): 1, ('weekend',): 1, ('duty',): 1, ('officials',): 1, ('pass',): 1, ('legislation',): 1, ('establishment',): 1, ('fair',): 1, ('equitable',): 1, ('pension',): 1, ('employes',): 1, ('praised',): 1, ('operation',): 1, ('police',): 1, (\"commissioner's\",): 1, ('bellwood',): 1, ('alpharetta',): 1, ('prison',): 1, ('farms',): 1, ('grady',): 1, ('hospital',): 1, ('health',): 1, ('filed',): 1, ('divorce',): 1, ('pearl',): 1, ('mental',): 1, ('cruelty',): 1, ('married',): 1, ('aug.',): 1, ('1913',): 1, ('son',): 1, ('berry',): 1, ('daughter',): 1, ('mrs.',): 1, ('j.',): 1, ('m.',): 1, ('cheshire',): 1, ('attorneys',): 1, ('amicable',): 1, ('settlement',): 1, ('agreed',): 1, ('upon',): 1, ('occupation',): 1, ('71',): 1, (\"wife's\",): 1, ('74',): 1, ('birth',): 1, ('opelika',): 1, ('ala.',): 1, ('lived',): 1, ('together',): 1, ('man',): 1, ('637',): 1, ('e.',): 1, ('rd.',): 1, ('aj',): 1, ('henry',): 1, ('l.',): 1, ('bowden',): 1, ('brief',): 1, ('interlude',): 1, ('since',): 1, ('1937',): 1, ('career',): 1, ('goes',): 1, ('council',): 1, ('1923',): 1, ('present',): 1, ('expires',): 1, ('became',): 1, ('13',): 1, ('announced',): 1, ('run',): 1, ('reelection',): 1, ('getting',): 1, ('strong',): 1, ('encouragement',): 1, ('1962',): 1, (\"governor's\",): 1, ('top',): 1, ('official',): 1, ('wednesday',): 1, ('robert',): 1, ('snodgrass',): 1, ('gop',): 1, ('brought',): 1, ('enthusiastic',): 1, ('responses',): 1, ('james',): 1, ('w.',): 1, ('dorsey',): 1, ('enthusiasm',): 1, ('picking',): 1, ('rally',): 1, ('8',): 1, ('savannah',): 1, ('newly',): 1, ('sen.',): 1, ('john',): 1, ('tower',): 1, ('featured',): 1, ('speaker',): 1, ('warned',): 1, ('entering',): 1, ('force',): 1, ('precincts',): 1, ('obtain',): 1, ('signatures',): 1, ('registered',): 1, ('warning',): 1, ('unanimous',): 1, ('according',): 1, ('attended',): 1, ('crowd',): 1, ('wanted',): 1, ('wait',): 1, ('dissents',): 1, ('largest',): 1, ('hurdle',): 1, ('face',): 1, ('making',): 1, ('alternative',): 1, ('courses',): 1, ('taken',): 1, ('five',): 1, ('cent',): 1, ('each',): 1, ('sign',): 1, ('requesting',): 1, ('allowed',): 1, ('names',): 1, ('ballot',): 1, ('hold',): 1, ('unit',): 1, ('opposes',): 1, ('platform',): 1, ('sam',): 1, ('relations',): 1, ('director',): 1, ('lt.',): 1, ('garland',): 1, (\"byrd's\",): 1, (\"caldwell's\",): 1, ('resignation',): 1, ('rob',): 1, ('ledford',): 1, ('gainesville',): 1, ('assistant',): 1, ('three',): 1, ('years',): 1, ('gubernatorial',): 1, ('starts',): 1, ('become',): 1, ('coordinator',): 1, ('byrd',): 1, ('wind',): 1, ('1961',): 1, ('head',): 1, ('where',): 1, ('shortly',): 1, ('afternoon',): 1, ('approve',): 1, ('study',): 1, ('allotted',): 1, ('urban',): 1, ('areas',): 1, ('determine',): 1, ('what',): 1, ('adjustments',): 1, ('traditional',): 1, ('visit',): 1, ('chambers',): 1, ('toward',): 1, ('likely',): 1, ('mention',): 1, ('$100',): 1, ('earlier',): 1, ('item',): 1, ('meanwhile',): 1, ('learned',): 1, ('very',): 1, ('near',): 1, ('ready',): 1, ('$30',): 1, ('reconstruction',): 1, ('go',): 1, ('courts',): 1, ('friendly',): 1, ('validity',): 1, ('sales',): 1, ('begin',): 1, ('contracts',): 1, ('let',): 1, ('repair',): 1, ('most',): 1, ('heavily',): 1, ('traveled',): 1, ('highways',): 1, ('$3',): 1, ('$4',): 1, ('road',): 1, ('intends',): 1, ('issued',): 1, ('every',): 1, ('old',): 1, ('ones',): 1, ('paid',): 1, ('off',): 1, ('authorities',): 1, ('opened',): 1, ('1958',): 1, ('battle',): 1, ('against',): 1, ('issuance',): 1, ('$50',): 1, ('marvin',): 1, ('told',): 1, ('constitution',): 1, ('consulted',): 1, ('yet',): 1, ('about',): 1, ('plans',): 1, ('schley',): 1, ('d.',): 1, (\"body's\",): 1, ('itself',): 1, ('$10',): 1, ('day',): 1, ('expense',): 1, ('allowances',): 1, ('research',): 1, ('done',): 1, ('quickie',): 1, ('can',): 1, ('repealed',): 1, ('outright',): 1, ('notice',): 1, ('given',): 1, ('reconsideration',): 1, ('sought',): 1, ('while',): 1, ('emphasizing',): 1, ('technical',): 1, ('details',): 1, ('fully',): 1, ('worked',): 1, ('seek',): 1, ('set',): 1, ('aside',): 1, ('87-31',): 1, ('similar',): 1, ('29-5',): 1, ('word',): 1, ('offered',): 1, ('pointed',): 1, ('last',): 1, ('november',): 1, ('rejected',): 1, ('constitutional',): 1, ('amendment',): 1, ('allow',): 1, ('sessions',): 1, ('jackson',): 1, ('aid',): 1, ('something',): 1, ('consistently',): 1, ('opposed',): 1, ('past',): 1, ('mac',): 1, ('commerce',): 1, ('asking',): 1, ('endorse',): 1, ('increased',): 1, ('support',): 1, ('provided',): 1, ('expended',): 1, ('13th',): 1, ('members',): 1, ('congressional',): 1, ('delegation',): 1, ('washington',): 1, ('see',): 1, ('congressmen',): 1, ('specifically',): 1, ('him',): 1, ('tossed',): 1, ('hopper',): 1, ('formally',): 1, ('read',): 1, ('event',): 1, ('congress',): 1, ('does',): 1, ('directed',): 1, ('give',): 1, ('long',): 1, ('hot',): 1, ('put',): 1, ('harry',): 1, ('agriculture',): 1, ('defeated',): 1, ('principal',): 1, ('democratic',): 1, ('1,119',): 1, ('votes',): 1, (\"saturday's\",): 1, ('402',): 1, ('carey',): 1, ('armed',): 1, ('pistol',): 1, ('stood',): 1, ('insure',): 1, ('order',): 1, ('calmest',): 1, ('tom',): 1, ('just',): 1, ('church',): 1, ('smell',): 1, ('drop',): 1, ('liquor',): 1, ('leading',): 1, ('quiet',): 1, ('marked',): 1, ('midnight',): 1, ('phone',): 1, ('veiled',): 1, ('threats',): 1, ('violence',): 1, ('former',): 1, ('george',): 1, ('p.',): 1, ('callan',): 1, ('shot',): 1, ('death',): 1, ('march',): 1, ('18',): 1, ('days',): 1, ('post',): 1, ('dispute',): 1, ('during',): 1, ('reportedly',): 1, ('telephone',): 1, ('too',): 1, ('subjected',): 1, ('soon',): 1, ('scheduled',): 1, ('local',): 1, ('feared',): 1, ('carry',): 1, ('gun',): 1, ('promised',): 1, ('tabb',): 1, ('good',): 1, ('promise',): 1, ('everything',): 1, ('went',): 1, ('real',): 1, ('smooth',): 1, (\"wasn't\",): 1, ('austin',): 1, ('approval',): 1, ('price',): 1, (\"daniel's\",): 1, ('abandoned',): 1, ('seemed',): 1, ('certain',): 1, ('thursday',): 1, ('adamant',): 1, ('protests',): 1, ('bankers',): 1})\n",
      "813\n"
     ]
    }
   ],
   "source": [
    "n = 2  # You can change this to 1, 2, or 3 for uni, bi, or trigrams\n",
    "model = NGramModel(corpus, n)\n",
    "\n",
    "tokens = model.tokenize()\n",
    "ngrams = model.generate_ngrams(tokens)\n",
    "model.count_frequencies()\n",
    "model.calculate_probabilities()\n",
    "\n",
    "write_freqs(model.most_frequent_ngrams(10), 'bigrams')"
   ]
  },
  {
   "cell_type": "markdown",
   "metadata": {},
   "source": [
    "### Trigrams\n",
    "Trigrams capture three-word sequences, providing a deeper understanding of longer word dependencies and commonly occurring phrases within the text.  \n",
    "The code below will generate trigrams when the NGramModel is implemented correctly"
   ]
  },
  {
   "cell_type": "code",
<<<<<<< Updated upstream
   "execution_count": null,
=======
   "execution_count": 17,
>>>>>>> Stashed changes
   "metadata": {},
   "outputs": [
    {
     "name": "stdout",
     "output_type": "stream",
     "text": [
      "Counter({('<s>', 'the'): 27, ('in', 'the'): 16, (',', 'the'): 16, (\"''\", '.'): 15, ('of', 'the'): 14, ('the', 'jury'): 13, ('jury', 'said'): 8, ('<s>', '``'): 8, (\"''\", ','): 7, ('the', 'fulton'): 6, ('fulton', 'county'): 6, ('the', 'election'): 6, ('<s>', 'it'): 6, ('at', 'the'): 6, ('the', 'state'): 6, ('that', 'the'): 5, (',', 'and'): 5, ('the', 'city'): 4, (',', '``'): 4, ('of', \"georgia's\"): 4, ('to', 'the'): 4, ('should', 'be'): 4, ('said', '.'): 4, ('on', 'the'): 4, ('has', 'been'): 4, ('will', 'be'): 4, (',', 'who'): 4, ('a', 'candidate'): 4, ('highway', 'department'): 4, ('<s>', 'a'): 4, ('rural', 'roads'): 4, ('the', 'house'): 4, ('grand', 'jury'): 3, (',', 'which'): 3, ('election', ','): 3, ('for', 'the'): 3, ('which', 'the'): 3, ('said', ','): 3, ('number', 'of'): 3, ('and', 'the'): 3, ('said', 'it'): 3, ('``', 'are'): 3, ('the', 'atlanta'): 3, ('as', 'a'): 3, ('when', 'the'): 3, ('the', 'new'): 3, ('in', 'a'): 3, ('added', 'that'): 3, ('the', 'petition'): 3, ('the', \"mayor's\"): 3, ('race', ','): 3, (',', 'a'): 3, ('there', 'was'): 3, ('to', 'make'): 3, ('make', 'the'): 3, ('the', 'republicans'): 3, ('is', 'expected'): 3, ('expected', 'to'): 3, ('to', 'issue'): 3, ('million', 'worth'): 3, ('worth', 'of'): 3, ('would', 'be'): 3, ('the', 'resolution'): 3, ('school', 'superintendent'): 3, ('the', 'polls'): 3, ('executive', 'committee'): 2, ('of', 'atlanta'): 2, ('election', 'was'): 2, ('had', 'been'): 2, ('fulton', 'superior'): 2, ('superior', 'court'): 2, ('ivan', 'allen'): 2, ('allen', 'jr.'): 2, ('the', 'number'): 2, ('of', 'this'): 2, ('recommended', 'that'): 2, ('fulton', 'legislators'): 2, ('the', 'grand'): 2, ('commented', 'on'): 2, ('however', ','): 2, ('``', 'these'): 2, ('department', ','): 2, ('it', 'urged'): 2, ('urged', 'that'): 2, ('implementation', 'of'): 2, ('that', 'an'): 2, ('an', 'orderly'): 2, ('state', 'welfare'): 2, ('federal', 'funds'): 2, ('``', 'this'): 2, ('one', 'of'): 2, (',', 'but'): 2, ('``', 'has'): 2, ('these', 'funds'): 2, ('with', 'the'): 2, ('exception', 'of'): 2, ('none', 'of'): 2, ('the', 'jurors'): 2, ('jurors', 'said'): 2, ('``', 'a'): 2, ('of', 'these'): 2, ('portion', 'of'): 2, ('funds', \"''\"): 2, ('to', 'place'): 2, ('of', 'two'): 2, ('committee', '.'): 2, ('jury', 'recommended'): 2, ('jan.', '1'): 2, ('that', 'will'): 2, ('that', '``'): 2, ('``', 'there'): 2, ('be', 'employed'): 2, ('of', 'a'): 2, (',', 'in'): 2, ('<s>', 'his'): 2, ('the', 'couple'): 2, ('have', 'a'): 2, ('jr.', ','): 2, ('griffin', '.'): 2, ('said', 'that'): 2, ('age', 'as'): 2, ('has', 'not'): 2, ('more', 'than'): 2, ('<s>', 'he'): 2, ('he', 'will'): 2, ('be', 'succeeded'): 2, ('succeeded', 'by'): 2, ('candidate', 'in'): 2, ('to', 'enter'): 2, ('enter', 'a'): 2, (',', 'state'): 2, (',', 'said'): 2, ('blue', 'ridge'): 2, ('the', 'audience'): 2, ('for', 'a'): 2, ('a', 'state'): 2, ('for', 'governor'): 2, ('despite', 'the'): 2, (',', 'there'): 2, ('<s>', 'when'): 2, (',', 'it'): 2, ('would', 'have'): 2, ('have', 'to'): 2, ('is', 'a'): 2, ('says', 'that'): 2, ('the', 'county'): 2, ('state', 'highway'): 2, ('the', 'georgia'): 2, ('some', 'of'): 2, ('the', 'highway'): 2, ('highway', 'bond'): 2, ('the', 'senate'): 2, ('<s>', 'vandiver'): 2, ('bond', 'issue'): 2, ('it', 'was'): 2, ('issue', 'the'): 2, ('bonds', '.'): 2, ('department', 'source'): 2, ('said', 'there'): 2, ('there', 'to'): 2, ('roads', 'authority'): 2, ('a', 'revolving'): 2, ('revolving', 'fund'): 2, ('with', 'a'): 2, ('roads', 'bonds'): 2, (',', 'however'): 2, ('a', 'resolution'): 2, ('to', 'rescind'): 2, ('rescind', 'the'): 2, ('increase', 'in'): 2, ('<s>', 'pelham'): 2, ('pelham', 'said'): 2, ('sunday', 'night'): 2, ('the', '``'): 2, ('vote', 'on'): 2, ('the', 'action'): 2, ('privilege', 'resolution'): 2, ('pay', 'raises'): 2, ('a', 'veteran'): 2, ('education', ','): 2, ('to', '``'): 2, ('<s>', '--'): 2, ('controversy', ','): 2, ('miller', 'county'): 2, ('new', 'school'): 2, ('superintendent', ','): 2, ('election', 'i'): 2, ('i', 'ever'): 2, ('ever', 'saw'): 2, ('bush', ','): 2, ('and', 'bush'): 2, ('<s>', 'ordinary'): 2, ('williams', 'said'): 2, ('being', 'at'): 2, ('a', 'bit'): 2, ('bit', 'of'): 2, ('of', 'trouble'): 2, ('trouble', \"''\"): 2, ('county', 'school'): 2, ('after', 'he'): 2, ('election', '.'): 2, ('county', 'grand'): 1, ('said', 'friday'): 1, ('friday', 'an'): 1, ('an', 'investigation'): 1, ('investigation', 'of'): 1, ('of', \"atlanta's\"): 1, (\"atlanta's\", 'recent'): 1, ('recent', 'primary'): 1, ('primary', 'election'): 1, ('election', 'produced'): 1, ('produced', '``'): 1, ('``', 'no'): 1, ('no', 'evidence'): 1, ('evidence', \"''\"): 1, (\"''\", 'that'): 1, ('that', 'any'): 1, ('any', 'irregularities'): 1, ('irregularities', 'took'): 1, ('took', 'place'): 1, ('place', '.'): 1, ('jury', 'further'): 1, ('further', 'said'): 1, ('said', 'in'): 1, ('in', 'term-end'): 1, ('term-end', 'presentments'): 1, ('presentments', 'that'): 1, ('city', 'executive'): 1, ('committee', ','): 1, ('which', 'had'): 1, ('had', 'over-all'): 1, ('over-all', 'charge'): 1, ('charge', 'of'): 1, ('``', 'deserves'): 1, ('deserves', 'the'): 1, ('the', 'praise'): 1, ('praise', 'and'): 1, ('and', 'thanks'): 1, ('thanks', 'of'): 1, ('city', 'of'): 1, ('atlanta', \"''\"): 1, (\"''\", 'for'): 1, ('the', 'manner'): 1, ('manner', 'in'): 1, ('in', 'which'): 1, ('was', 'conducted'): 1, ('conducted', '.'): 1, ('the', 'september-october'): 1, ('september-october', 'term'): 1, ('term', 'jury'): 1, ('jury', 'had'): 1, ('been', 'charged'): 1, ('charged', 'by'): 1, ('by', 'fulton'): 1, ('court', 'judge'): 1, ('judge', 'durwood'): 1, ('durwood', 'pye'): 1, ('pye', 'to'): 1, ('to', 'investigate'): 1, ('investigate', 'reports'): 1, ('reports', 'of'): 1, ('of', 'possible'): 1, ('possible', '``'): 1, ('``', 'irregularities'): 1, ('irregularities', \"''\"): 1, (\"''\", 'in'): 1, ('the', 'hard-fought'): 1, ('hard-fought', 'primary'): 1, ('primary', 'which'): 1, ('which', 'was'): 1, ('was', 'won'): 1, ('won', 'by'): 1, ('by', 'mayor-nominate'): 1, ('mayor-nominate', 'ivan'): 1, ('jr.', '.'): 1, ('``', 'only'): 1, ('only', 'a'): 1, ('a', 'relative'): 1, ('relative', 'handful'): 1, ('handful', 'of'): 1, ('of', 'such'): 1, ('such', 'reports'): 1, ('reports', 'was'): 1, ('was', 'received'): 1, ('received', \"''\"): 1, ('``', 'considering'): 1, ('considering', 'the'): 1, ('the', 'widespread'): 1, ('widespread', 'interest'): 1, ('interest', 'in'): 1, ('of', 'voters'): 1, ('voters', 'and'): 1, ('the', 'size'): 1, ('size', 'of'): 1, ('this', 'city'): 1, ('city', \"''\"): 1, ('it', 'did'): 1, ('did', 'find'): 1, ('find', 'that'): 1, ('that', 'many'): 1, ('many', 'of'): 1, (\"georgia's\", 'registration'): 1, ('registration', 'and'): 1, ('and', 'election'): 1, ('election', 'laws'): 1, ('laws', '``'): 1, ('are', 'outmoded'): 1, ('outmoded', 'or'): 1, ('or', 'inadequate'): 1, ('inadequate', 'and'): 1, ('and', 'often'): 1, ('often', 'ambiguous'): 1, ('ambiguous', \"''\"): 1, ('it', 'recommended'): 1, ('that', 'fulton'): 1, ('legislators', 'act'): 1, ('act', '``'): 1, ('``', 'to'): 1, ('to', 'have'): 1, ('have', 'these'): 1, ('these', 'laws'): 1, ('laws', 'studied'): 1, ('studied', 'and'): 1, ('and', 'revised'): 1, ('revised', 'to'): 1, ('the', 'end'): 1, ('end', 'of'): 1, ('of', 'modernizing'): 1, ('modernizing', 'and'): 1, ('and', 'improving'): 1, ('improving', 'them'): 1, ('them', \"''\"): 1, ('jury', 'commented'): 1, ('on', 'a'): 1, ('a', 'number'): 1, ('of', 'other'): 1, ('other', 'topics'): 1, ('topics', ','): 1, (',', 'among'): 1, ('among', 'them'): 1, ('them', 'the'): 1, ('atlanta', 'and'): 1, ('and', 'fulton'): 1, ('county', 'purchasing'): 1, ('purchasing', 'departments'): 1, ('departments', 'which'): 1, ('which', 'it'): 1, ('it', 'said'): 1, ('said', '``'): 1, ('are', 'well'): 1, ('well', 'operated'): 1, ('operated', 'and'): 1, ('and', 'follow'): 1, ('follow', 'generally'): 1, ('generally', 'accepted'): 1, ('accepted', 'practices'): 1, ('practices', 'which'): 1, ('which', 'inure'): 1, ('inure', 'to'): 1, ('the', 'best'): 1, ('best', 'interest'): 1, ('interest', 'of'): 1, ('of', 'both'): 1, ('both', 'governments'): 1, ('governments', \"''\"): 1, ('<s>', 'merger'): 1, ('merger', 'proposed'): 1, ('<s>', 'however'): 1, ('it', 'believes'): 1, ('believes', '``'): 1, ('these', 'two'): 1, ('two', 'offices'): 1, ('offices', 'should'): 1, ('be', 'combined'): 1, ('combined', 'to'): 1, ('to', 'achieve'): 1, ('achieve', 'greater'): 1, ('greater', 'efficiency'): 1, ('efficiency', 'and'): 1, ('and', 'reduce'): 1, ('reduce', 'the'): 1, ('the', 'cost'): 1, ('cost', 'of'): 1, ('of', 'administration'): 1, ('administration', \"''\"): 1, ('city', 'purchasing'): 1, ('purchasing', 'department'): 1, ('``', 'is'): 1, ('is', 'lacking'): 1, ('lacking', 'in'): 1, ('in', 'experienced'): 1, ('experienced', 'clerical'): 1, ('clerical', 'personnel'): 1, ('personnel', 'as'): 1, ('a', 'result'): 1, ('result', 'of'): 1, ('of', 'city'): 1, ('city', 'personnel'): 1, ('personnel', 'policies'): 1, ('policies', \"''\"): 1, ('city', '``'): 1, ('``', 'take'): 1, ('take', 'steps'): 1, ('steps', 'to'): 1, ('to', 'remedy'): 1, ('remedy', \"''\"): 1, (\"''\", 'this'): 1, ('this', 'problem'): 1, ('problem', '.'): 1, ('<s>', 'implementation'): 1, (\"georgia's\", 'automobile'): 1, ('automobile', 'title'): 1, ('title', 'law'): 1, ('law', 'was'): 1, ('was', 'also'): 1, ('also', 'recommended'): 1, ('recommended', 'by'): 1, ('by', 'the'): 1, ('the', 'outgoing'): 1, ('outgoing', 'jury'): 1, ('jury', '.'): 1, ('the', 'next'): 1, ('next', 'legislature'): 1, ('legislature', '``'): 1, ('``', 'provide'): 1, ('provide', 'enabling'): 1, ('enabling', 'funds'): 1, ('funds', 'and'): 1, ('and', 're-set'): 1, ('re-set', 'the'): 1, ('the', 'effective'): 1, ('effective', 'date'): 1, ('date', 'so'): 1, ('so', 'that'): 1, ('orderly', 'implementation'): 1, ('the', 'law'): 1, ('law', 'may'): 1, ('may', 'be'): 1, ('be', 'effected'): 1, ('effected', \"''\"): 1, ('jury', 'took'): 1, ('took', 'a'): 1, ('a', 'swipe'): 1, ('swipe', 'at'): 1, ('welfare', \"department's\"): 1, (\"department's\", 'handling'): 1, ('handling', 'of'): 1, ('of', 'federal'): 1, ('funds', 'granted'): 1, ('granted', 'for'): 1, ('for', 'child'): 1, ('child', 'welfare'): 1, ('welfare', 'services'): 1, ('services', 'in'): 1, ('in', 'foster'): 1, ('foster', 'homes'): 1, ('homes', '.'): 1, ('this', 'is'): 1, ('is', 'one'): 1, ('the', 'major'): 1, ('major', 'items'): 1, ('items', 'in'): 1, ('county', 'general'): 1, ('general', 'assistance'): 1, ('assistance', 'program'): 1, ('program', \"''\"): 1, ('but', 'the'): 1, ('welfare', 'department'): 1, ('department', '``'): 1, ('has', 'seen'): 1, ('seen', 'fit'): 1, ('fit', 'to'): 1, ('to', 'distribute'): 1, ('distribute', 'these'): 1, ('funds', 'through'): 1, ('through', 'the'): 1, ('the', 'welfare'): 1, ('welfare', 'departments'): 1, ('departments', 'of'): 1, ('of', 'all'): 1, ('all', 'the'): 1, ('the', 'counties'): 1, ('counties', 'in'): 1, ('state', 'with'): 1, ('the', 'exception'): 1, ('of', 'fulton'): 1, ('county', ','): 1, ('which', 'receives'): 1, ('receives', 'none'): 1, ('this', 'money'): 1, ('money', '.'): 1, ('said', 'they'): 1, ('they', 'realize'): 1, ('realize', '``'): 1, ('a', 'proportionate'): 1, ('proportionate', 'distribution'): 1, ('distribution', 'of'): 1, ('funds', 'might'): 1, ('might', 'disable'): 1, ('disable', 'this'): 1, ('this', 'program'): 1, ('program', 'in'): 1, ('in', 'our'): 1, ('our', 'less'): 1, ('less', 'populous'): 1, ('populous', 'counties'): 1, ('counties', \"''\"): 1, ('<s>', 'nevertheless'): 1, ('nevertheless', ','): 1, ('``', 'we'): 1, ('we', 'feel'): 1, ('feel', 'that'): 1, ('that', 'in'): 1, ('the', 'future'): 1, ('future', 'fulton'): 1, ('county', 'should'): 1, ('should', 'receive'): 1, ('receive', 'some'): 1, ('some', 'portion'): 1, ('these', 'available'): 1, ('available', 'funds'): 1, ('``', 'failure'): 1, ('failure', 'to'): 1, ('to', 'do'): 1, ('do', 'this'): 1, ('this', 'will'): 1, ('will', 'continue'): 1, ('continue', 'to'): 1, ('place', 'a'): 1, ('a', 'disproportionate'): 1, ('disproportionate', 'burden'): 1, ('burden', \"''\"): 1, (\"''\", 'on'): 1, ('on', 'fulton'): 1, ('fulton', 'taxpayers'): 1, ('taxpayers', '.'): 1, ('jury', 'also'): 1, ('also', 'commented'): 1, ('fulton', \"ordinary's\"): 1, (\"ordinary's\", 'court'): 1, ('court', 'which'): 1, ('which', 'has'): 1, ('been', 'under'): 1, ('under', 'fire'): 1, ('fire', 'for'): 1, ('for', 'its'): 1, ('its', 'practices'): 1, ('practices', 'in'): 1, ('the', 'appointment'): 1, ('appointment', 'of'): 1, ('of', 'appraisers'): 1, ('appraisers', ','): 1, (',', 'guardians'): 1, ('guardians', 'and'): 1, ('and', 'administrators'): 1, ('administrators', 'and'): 1, ('the', 'awarding'): 1, ('awarding', 'of'): 1, ('of', 'fees'): 1, ('fees', 'and'): 1, ('and', 'compensation'): 1, ('compensation', '.'): 1, ('<s>', 'wards'): 1, ('wards', 'protected'): 1, ('it', 'found'): 1, ('found', 'the'): 1, ('the', 'court'): 1, ('court', '``'): 1, ('has', 'incorporated'): 1, ('incorporated', 'into'): 1, ('into', 'its'): 1, ('its', 'operating'): 1, ('operating', 'procedures'): 1, ('procedures', 'the'): 1, ('the', 'recommendations'): 1, ('recommendations', \"''\"): 1, (\"''\", 'of'): 1, ('two', 'previous'): 1, ('previous', 'grand'): 1, ('grand', 'juries'): 1, ('juries', ','): 1, ('atlanta', 'bar'): 1, ('bar', 'association'): 1, ('association', 'and'): 1, ('and', 'an'): 1, ('an', 'interim'): 1, ('interim', 'citizens'): 1, ('citizens', 'committee'): 1, ('these', 'actions'): 1, ('actions', 'should'): 1, ('should', 'serve'): 1, ('serve', 'to'): 1, ('to', 'protect'): 1, ('protect', 'in'): 1, ('in', 'fact'): 1, ('fact', 'and'): 1, ('and', 'in'): 1, ('in', 'effect'): 1, ('effect', 'the'): 1, ('the', \"court's\"): 1, (\"court's\", 'wards'): 1, ('wards', 'from'): 1, ('from', 'undue'): 1, ('undue', 'costs'): 1, ('costs', 'and'): 1, ('and', 'its'): 1, ('its', 'appointed'): 1, ('appointed', 'and'): 1, ('and', 'elected'): 1, ('elected', 'servants'): 1, ('servants', 'from'): 1, ('from', 'unmeritorious'): 1, ('unmeritorious', 'criticisms'): 1, ('criticisms', \"''\"): 1, ('<s>', 'regarding'): 1, ('regarding', \"atlanta's\"): 1, (\"atlanta's\", 'new'): 1, ('new', 'multi-million-dollar'): 1, ('multi-million-dollar', 'airport'): 1, ('airport', ','): 1, ('recommended', '``'): 1, ('``', 'that'): 1, ('that', 'when'): 1, ('new', 'management'): 1, ('management', 'takes'): 1, ('takes', 'charge'): 1, ('charge', 'jan.'): 1, ('1', 'the'): 1, ('the', 'airport'): 1, ('airport', 'be'): 1, ('be', 'operated'): 1, ('operated', 'in'): 1, ('a', 'manner'): 1, ('manner', 'that'): 1, ('will', 'eliminate'): 1, ('eliminate', 'political'): 1, ('political', 'influences'): 1, ('influences', \"''\"): 1, ('jury', 'did'): 1, ('did', 'not'): 1, ('not', 'elaborate'): 1, ('elaborate', ','): 1, ('but', 'it'): 1, ('it', 'added'): 1, ('there', 'should'): 1, ('be', 'periodic'): 1, ('periodic', 'surveillance'): 1, ('surveillance', 'of'): 1, ('the', 'pricing'): 1, ('pricing', 'practices'): 1, ('practices', 'of'): 1, ('the', 'concessionaires'): 1, ('concessionaires', 'for'): 1, ('the', 'purpose'): 1, ('purpose', 'of'): 1, ('of', 'keeping'): 1, ('keeping', 'the'): 1, ('the', 'prices'): 1, ('prices', 'reasonable'): 1, ('reasonable', \"''\"): 1, ('<s>', 'ask'): 1, ('ask', 'jail'): 1, ('jail', 'deputies'): 1, ('<s>', 'on'): 1, ('on', 'other'): 1, ('other', 'matters'): 1, ('matters', ','): 1, ('that', ':'): 1, (':', '('): 1, ('(', '1'): 1, ('1', ')'): 1, ('<s>', 'four'): 1, ('four', 'additional'): 1, ('additional', 'deputies'): 1, ('deputies', 'be'): 1, ('employed', 'at'): 1, ('county', 'jail'): 1, ('jail', 'and'): 1, ('and', '``'): 1, ('a', 'doctor'): 1, ('doctor', ','): 1, (',', 'medical'): 1, ('medical', 'intern'): 1, ('intern', 'or'): 1, ('or', 'extern'): 1, ('extern', 'be'): 1, ('employed', 'for'): 1, ('for', 'night'): 1, ('night', 'and'): 1, ('and', 'weekend'): 1, ('weekend', 'duty'): 1, ('duty', 'at'): 1, ('the', 'jail'): 1, ('jail', \"''\"): 1, ('<s>', '('): 1, ('(', '2'): 1, ('2', ')'): 1, ('<s>', 'fulton'): 1, ('legislators', '``'): 1, ('``', 'work'): 1, ('work', 'with'): 1, ('with', 'city'): 1, ('city', 'officials'): 1, ('officials', 'to'): 1, ('to', 'pass'): 1, ('pass', 'enabling'): 1, ('enabling', 'legislation'): 1, ('legislation', 'that'): 1, ('will', 'permit'): 1, ('permit', 'the'): 1, ('the', 'establishment'): 1, ('establishment', 'of'): 1, ('a', 'fair'): 1, ('fair', 'and'): 1, ('and', 'equitable'): 1, ('equitable', \"''\"): 1, (\"''\", 'pension'): 1, ('pension', 'plan'): 1, ('plan', 'for'): 1, ('for', 'city'): 1, ('city', 'employes'): 1, ('employes', '.'): 1, ('jury', 'praised'): 1, ('praised', 'the'): 1, ('the', 'administration'): 1, ('administration', 'and'): 1, ('and', 'operation'): 1, ('operation', 'of'): 1, ('atlanta', 'police'): 1, ('police', 'department'): 1, ('fulton', 'tax'): 1, ('tax', \"commissioner's\"): 1, (\"commissioner's\", 'office'): 1, ('office', ','): 1, ('the', 'bellwood'): 1, ('bellwood', 'and'): 1, ('and', 'alpharetta'): 1, ('alpharetta', 'prison'): 1, ('prison', 'farms'): 1, ('farms', ','): 1, (',', 'grady'): 1, ('grady', 'hospital'): 1, ('hospital', 'and'): 1, ('fulton', 'health'): 1, ('health', 'department'): 1, ('department', '.'): 1, ('<s>', 'mayor'): 1, ('mayor', 'william'): 1, ('william', 'b.'): 1, ('b.', 'hartsfield'): 1, ('hartsfield', 'filed'): 1, ('filed', 'suit'): 1, ('suit', 'for'): 1, ('for', 'divorce'): 1, ('divorce', 'from'): 1, ('from', 'his'): 1, ('his', 'wife'): 1, ('wife', ','): 1, (',', 'pearl'): 1, ('pearl', 'williams'): 1, ('williams', 'hartsfield'): 1, ('hartsfield', ','): 1, ('in', 'fulton'): 1, ('court', 'friday'): 1, ('friday', '.'): 1, ('his', 'petition'): 1, ('petition', 'charged'): 1, ('charged', 'mental'): 1, ('mental', 'cruelty'): 1, ('cruelty', '.'): 1, ('couple', 'was'): 1, ('was', 'married'): 1, ('married', 'aug.'): 1, ('aug.', '2'): 1, ('2', ','): 1, (',', '1913'): 1, ('1913', '.'): 1, ('<s>', 'they'): 1, ('they', 'have'): 1, ('a', 'son'): 1, ('son', ','): 1, (',', 'william'): 1, ('william', 'berry'): 1, ('berry', 'jr.'): 1, ('and', 'a'): 1, ('a', 'daughter'): 1, ('daughter', ','): 1, (',', 'mrs.'): 1, ('mrs.', 'j.'): 1, ('j.', 'm.'): 1, ('m.', 'cheshire'): 1, ('cheshire', 'of'): 1, ('of', 'griffin'): 1, ('<s>', 'attorneys'): 1, ('attorneys', 'for'): 1, ('the', 'mayor'): 1, ('mayor', 'said'): 1, ('an', 'amicable'): 1, ('amicable', 'property'): 1, ('property', 'settlement'): 1, ('settlement', 'has'): 1, ('been', 'agreed'): 1, ('agreed', 'upon'): 1, ('upon', '.'): 1, ('petition', 'listed'): 1, ('listed', 'the'): 1, (\"mayor's\", 'occupation'): 1, ('occupation', 'as'): 1, ('as', '``'): 1, ('``', 'attorney'): 1, ('attorney', \"''\"): 1, (\"''\", 'and'): 1, ('and', 'his'): 1, ('his', 'age'): 1, ('as', '71'): 1, ('71', '.'): 1, ('it', 'listed'): 1, ('listed', 'his'): 1, ('his', \"wife's\"): 1, (\"wife's\", 'age'): 1, ('as', '74'): 1, ('74', 'and'): 1, ('and', 'place'): 1, ('place', 'of'): 1, ('of', 'birth'): 1, ('birth', 'as'): 1, ('as', 'opelika'): 1, ('opelika', ','): 1, (',', 'ala.'): 1, ('ala.', '.'): 1, ('petition', 'said'): 1, ('couple', 'has'): 1, ('not', 'lived'): 1, ('lived', 'together'): 1, ('together', 'as'): 1, ('as', 'man'): 1, ('man', 'and'): 1, ('and', 'wife'): 1, ('wife', 'for'): 1, ('for', 'more'): 1, ('than', 'a'): 1, ('a', 'year'): 1, ('year', '.'): 1, ('the', 'hartsfield'): 1, ('hartsfield', 'home'): 1, ('home', 'is'): 1, ('is', 'at'): 1, ('at', '637'): 1, ('637', 'e.'): 1, ('e.', 'pelham'): 1, ('pelham', 'rd.'): 1, ('rd.', 'aj'): 1, ('aj', '.'): 1, ('<s>', 'henry'): 1, ('henry', 'l.'): 1, ('l.', 'bowden'): 1, ('bowden', 'was'): 1, ('was', 'listed'): 1, ('listed', 'on'): 1, ('petition', 'as'): 1, ('as', 'the'): 1, (\"mayor's\", 'attorney'): 1, ('attorney', '.'): 1, ('<s>', 'hartsfield'): 1, ('hartsfield', 'has'): 1, ('been', 'mayor'): 1, ('mayor', 'of'): 1, ('atlanta', ','): 1, (',', 'with'): 1, ('with', 'exception'): 1, ('of', 'one'): 1, ('one', 'brief'): 1, ('brief', 'interlude'): 1, ('interlude', ','): 1, (',', 'since'): 1, ('since', '1937'): 1, ('1937', '.'): 1, ('his', 'political'): 1, ('political', 'career'): 1, ('career', 'goes'): 1, ('goes', 'back'): 1, ('back', 'to'): 1, ('to', 'his'): 1, ('his', 'election'): 1, ('election', 'to'): 1, ('to', 'city'): 1, ('city', 'council'): 1, ('council', 'in'): 1, ('in', '1923'): 1, ('1923', '.'): 1, (\"mayor's\", 'present'): 1, ('present', 'term'): 1, ('term', 'of'): 1, ('of', 'office'): 1, ('office', 'expires'): 1, ('expires', 'jan.'): 1, ('1', '.'): 1, ('by', 'ivan'): 1, ('who', 'became'): 1, ('became', 'a'): 1, ('the', 'sept.'): 1, ('sept.', '13'): 1, ('13', 'primary'): 1, ('primary', 'after'): 1, ('after', 'mayor'): 1, ('mayor', 'hartsfield'): 1, ('hartsfield', 'announced'): 1, ('announced', 'that'): 1, ('that', 'he'): 1, ('he', 'would'): 1, ('would', 'not'): 1, ('not', 'run'): 1, ('run', 'for'): 1, ('for', 'reelection'): 1, ('reelection', '.'): 1, ('<s>', 'georgia'): 1, ('georgia', 'republicans'): 1, ('republicans', 'are'): 1, ('are', 'getting'): 1, ('getting', 'strong'): 1, ('strong', 'encouragement'): 1, ('encouragement', 'to'): 1, ('the', '1962'): 1, ('1962', \"governor's\"): 1, (\"governor's\", 'race'): 1, ('a', 'top'): 1, ('top', 'official'): 1, ('official', 'said'): 1, ('said', 'wednesday'): 1, ('wednesday', '.'): 1, ('<s>', 'robert'): 1, ('robert', 'snodgrass'): 1, ('snodgrass', ','): 1, ('state', 'gop'): 1, ('gop', 'chairman'): 1, ('chairman', ','): 1, ('said', 'a'): 1, ('a', 'meeting'): 1, ('meeting', 'held'): 1, ('held', 'tuesday'): 1, ('tuesday', 'night'): 1, ('night', 'in'): 1, ('in', 'blue'): 1, ('ridge', 'brought'): 1, ('brought', 'enthusiastic'): 1, ('enthusiastic', 'responses'): 1, ('responses', 'from'): 1, ('from', 'the'): 1, ('audience', '.'): 1, ('<s>', 'state'): 1, ('state', 'party'): 1, ('party', 'chairman'): 1, ('chairman', 'james'): 1, ('james', 'w.'): 1, ('w.', 'dorsey'): 1, ('dorsey', 'added'): 1, ('that', 'enthusiasm'): 1, ('enthusiasm', 'was'): 1, ('was', 'picking'): 1, ('picking', 'up'): 1, ('up', 'for'): 1, ('state', 'rally'): 1, ('rally', 'to'): 1, ('to', 'be'): 1, ('be', 'held'): 1, ('held', 'sept.'): 1, ('sept.', '8'): 1, ('8', 'in'): 1, ('in', 'savannah'): 1, ('savannah', 'at'): 1, ('at', 'which'): 1, ('which', 'newly'): 1, ('newly', 'elected'): 1, ('elected', 'texas'): 1, ('texas', 'sen.'): 1, ('sen.', 'john'): 1, ('john', 'tower'): 1, ('tower', 'will'): 1, ('be', 'the'): 1, ('the', 'featured'): 1, ('featured', 'speaker'): 1, ('speaker', '.'): 1, ('<s>', 'in'): 1, ('the', 'blue'): 1, ('ridge', 'meeting'): 1, ('meeting', ','): 1, ('audience', 'was'): 1, ('was', 'warned'): 1, ('warned', 'that'): 1, ('that', 'entering'): 1, ('entering', 'a'): 1, ('candidate', 'for'): 1, ('governor', 'would'): 1, ('would', 'force'): 1, ('force', 'it'): 1, ('it', 'to'): 1, ('to', 'take'): 1, ('take', 'petitions'): 1, ('petitions', 'out'): 1, ('out', 'into'): 1, ('into', 'voting'): 1, ('voting', 'precincts'): 1, ('precincts', 'to'): 1, ('to', 'obtain'): 1, ('obtain', 'the'): 1, ('the', 'signatures'): 1, ('signatures', 'of'): 1, ('of', 'registered'): 1, ('registered', 'voters'): 1, ('voters', '.'): 1, ('<s>', 'despite'): 1, ('the', 'warning'): 1, ('warning', ','): 1, ('was', 'a'): 1, ('a', 'unanimous'): 1, ('unanimous', 'vote'): 1, ('vote', 'to'): 1, ('candidate', ','): 1, (',', 'according'): 1, ('according', 'to'): 1, ('to', 'republicans'): 1, ('republicans', 'who'): 1, ('who', 'attended'): 1, ('attended', '.'): 1, ('the', 'crowd'): 1, ('crowd', 'was'): 1, ('was', 'asked'): 1, ('asked', 'whether'): 1, ('whether', 'it'): 1, ('it', 'wanted'): 1, ('wanted', 'to'): 1, ('to', 'wait'): 1, ('wait', 'one'): 1, ('one', 'more'): 1, ('more', 'term'): 1, ('term', 'to'): 1, ('the', 'race'): 1, ('it', 'voted'): 1, ('voted', 'no'): 1, ('no', '--'): 1, ('--', 'and'): 1, ('and', 'there'): 1, ('there', 'were'): 1, ('were', 'no'): 1, ('no', 'dissents'): 1, ('dissents', '.'): 1, ('the', 'largest'): 1, ('largest', 'hurdle'): 1, ('hurdle', 'the'): 1, ('republicans', 'would'): 1, ('to', 'face'): 1, ('face', 'is'): 1, ('state', 'law'): 1, ('law', 'which'): 1, ('which', 'says'): 1, ('that', 'before'): 1, ('before', 'making'): 1, ('making', 'a'): 1, ('a', 'first'): 1, ('first', 'race'): 1, (',', 'one'): 1, ('two', 'alternative'): 1, ('alternative', 'courses'): 1, ('courses', 'must'): 1, ('must', 'be'): 1, ('be', 'taken'): 1, ('taken', ':'): 1, (':', '1'): 1, ('<s>', 'five'): 1, ('five', 'per'): 1, ('per', 'cent'): 1, ('cent', 'of'): 1, ('the', 'voters'): 1, ('voters', 'in'): 1, ('in', 'each'): 1, ('each', 'county'): 1, ('county', 'must'): 1, ('must', 'sign'): 1, ('sign', 'petitions'): 1, ('petitions', 'requesting'): 1, ('requesting', 'that'): 1, ('republicans', 'be'): 1, ('be', 'allowed'): 1, ('allowed', 'to'): 1, ('place', 'names'): 1, ('names', 'of'): 1, ('of', 'candidates'): 1, ('candidates', 'on'): 1, ('the', 'general'): 1, ('general', 'election'): 1, ('election', 'ballot'): 1, ('ballot', ','): 1, (',', 'or'): 1, ('or', '2'): 1, ('republicans', 'must'): 1, ('must', 'hold'): 1, ('hold', 'a'): 1, ('a', 'primary'): 1, ('primary', 'under'): 1, ('under', 'the'): 1, ('county', 'unit'): 1, ('unit', 'system'): 1, ('system', '--'): 1, ('--', 'a'): 1, ('a', 'system'): 1, ('system', 'which'): 1, ('the', 'party'): 1, ('party', 'opposes'): 1, ('opposes', 'in'): 1, ('in', 'its'): 1, ('its', 'platform'): 1, ('platform', '.'): 1, ('<s>', 'sam'): 1, ('sam', 'caldwell'): 1, ('caldwell', ','): 1, ('department', 'public'): 1, ('public', 'relations'): 1, ('relations', 'director'): 1, ('director', ','): 1, (',', 'resigned'): 1, ('resigned', 'tuesday'): 1, ('tuesday', 'to'): 1, ('to', 'work'): 1, ('work', 'for'): 1, ('for', 'lt.'): 1, ('lt.', 'gov.'): 1, ('gov.', 'garland'): 1, ('garland', \"byrd's\"): 1, (\"byrd's\", 'campaign'): 1, ('campaign', '.'): 1, ('<s>', \"caldwell's\"): 1, (\"caldwell's\", 'resignation'): 1, ('resignation', 'had'): 1, ('been', 'expected'): 1, ('expected', 'for'): 1, ('for', 'some'): 1, ('some', 'time'): 1, ('time', '.'): 1, ('by', 'rob'): 1, ('rob', 'ledford'): 1, ('ledford', 'of'): 1, ('of', 'gainesville'): 1, ('gainesville', ','): 1, ('who', 'has'): 1, ('been', 'an'): 1, ('an', 'assistant'): 1, ('assistant', 'more'): 1, ('than', 'three'): 1, ('three', 'years'): 1, ('years', '.'): 1, ('the', 'gubernatorial'): 1, ('gubernatorial', 'campaign'): 1, ('campaign', 'starts'): 1, ('starts', ','): 1, (',', 'caldwell'): 1, ('caldwell', 'is'): 1, ('to', 'become'): 1, ('become', 'a'): 1, ('a', 'campaign'): 1, ('campaign', 'coordinator'): 1, ('coordinator', 'for'): 1, ('for', 'byrd'): 1, ('byrd', '.'): 1, ('georgia', 'legislature'): 1, ('legislature', 'will'): 1, ('will', 'wind'): 1, ('wind', 'up'): 1, ('up', 'its'): 1, ('its', '1961'): 1, ('1961', 'session'): 1, ('session', 'monday'): 1, ('monday', 'and'): 1, ('and', 'head'): 1, ('head', 'for'): 1, ('for', 'home'): 1, ('home', '--'): 1, ('--', 'where'): 1, ('where', 'some'): 1, ('bond', 'money'): 1, ('money', 'it'): 1, ('it', 'approved'): 1, ('approved', 'will'): 1, ('will', 'follow'): 1, ('follow', 'shortly'): 1, ('shortly', '.'): 1, ('<s>', 'before'): 1, ('before', 'adjournment'): 1, ('adjournment', 'monday'): 1, ('monday', 'afternoon'): 1, ('afternoon', ','): 1, ('senate', 'is'): 1, ('to', 'approve'): 1, ('approve', 'a'): 1, ('a', 'study'): 1, ('study', 'of'): 1, ('of', 'legislators'): 1, ('legislators', 'allotted'): 1, ('allotted', 'to'): 1, ('to', 'rural'): 1, ('rural', 'and'): 1, ('and', 'urban'): 1, ('urban', 'areas'): 1, ('areas', 'to'): 1, ('to', 'determine'): 1, ('determine', 'what'): 1, ('what', 'adjustments'): 1, ('adjustments', 'should'): 1, ('be', 'made'): 1, ('made', '.'): 1, ('<s>', 'gov.'): 1, ('gov.', 'vandiver'): 1, ('vandiver', 'is'): 1, ('the', 'traditional'): 1, ('traditional', 'visit'): 1, ('visit', 'to'): 1, ('to', 'both'): 1, ('both', 'chambers'): 1, ('chambers', 'as'): 1, ('as', 'they'): 1, ('they', 'work'): 1, ('work', 'toward'): 1, ('toward', 'adjournment'): 1, ('adjournment', '.'): 1, ('vandiver', 'likely'): 1, ('likely', 'will'): 1, ('will', 'mention'): 1, ('mention', 'the'): 1, ('the', '$100'): 1, ('$100', 'million'): 1, ('million', 'highway'): 1, ('issue', 'approved'): 1, ('approved', 'earlier'): 1, ('earlier', 'in'): 1, ('the', 'session'): 1, ('session', 'as'): 1, ('as', 'his'): 1, ('his', 'first'): 1, ('first', 'priority'): 1, ('priority', 'item'): 1, ('item', '.'): 1, ('<s>', 'construction'): 1, ('construction', 'bonds'): 1, ('<s>', 'meanwhile'): 1, ('meanwhile', ','): 1, ('was', 'learned'): 1, ('learned', 'the'): 1, ('department', 'is'): 1, ('is', 'very'): 1, ('very', 'near'): 1, ('near', 'being'): 1, ('being', 'ready'): 1, ('ready', 'to'): 1, ('the', 'first'): 1, ('first', '$30'): 1, ('$30', 'million'): 1, ('of', 'highway'): 1, ('highway', 'reconstruction'): 1, ('reconstruction', 'bonds'): 1, ('the', 'bond'): 1, ('issue', 'will'): 1, ('will', 'go'): 1, ('go', 'to'): 1, ('state', 'courts'): 1, ('courts', 'for'): 1, ('a', 'friendly'): 1, ('friendly', 'test'): 1, ('test', 'suit'): 1, ('suit', 'to'): 1, ('to', 'test'): 1, ('test', 'the'): 1, ('the', 'validity'): 1, ('validity', 'of'): 1, ('the', 'act'): 1, ('act', ','): 1, ('and', 'then'): 1, ('then', 'the'): 1, ('the', 'sales'): 1, ('sales', 'will'): 1, ('will', 'begin'): 1, ('begin', 'and'): 1, ('and', 'contracts'): 1, ('contracts', 'let'): 1, ('let', 'for'): 1, ('for', 'repair'): 1, ('repair', 'work'): 1, ('work', 'on'): 1, ('on', 'some'): 1, (\"georgia's\", 'most'): 1, ('most', 'heavily'): 1, ('heavily', 'traveled'): 1, ('traveled', 'highways'): 1, ('highways', '.'): 1, ('a', 'highway'): 1, ('source', 'said'): 1, ('there', 'also'): 1, ('also', 'is'): 1, ('a', 'plan'): 1, ('plan', 'there'): 1, ('issue', 'some'): 1, ('some', '$3'): 1, ('$3', 'million'): 1, ('million', 'to'): 1, ('to', '$4'): 1, ('$4', 'million'): 1, ('of', 'rural'): 1, ('authority', 'bonds'): 1, ('bonds', 'for'): 1, ('for', 'rural'): 1, ('rural', 'road'): 1, ('road', 'construction'): 1, ('construction', 'work'): 1, ('work', '.'): 1, ('the', 'department'): 1, ('department', 'apparently'): 1, ('apparently', 'intends'): 1, ('intends', 'to'): 1, ('the', 'rural'): 1, ('authority', 'a'): 1, ('fund', 'under'): 1, ('under', 'which'): 1, ('which', 'new'): 1, ('new', 'bonds'): 1, ('bonds', 'would'): 1, ('be', 'issued'): 1, ('issued', 'every'): 1, ('every', 'time'): 1, ('time', 'a'): 1, ('a', 'portion'): 1, ('the', 'old'): 1, ('old', 'ones'): 1, ('ones', 'are'): 1, ('are', 'paid'): 1, ('paid', 'off'): 1, ('off', 'by'): 1, ('by', 'tax'): 1, ('tax', 'authorities'): 1, ('authorities', '.'): 1, ('vandiver', 'opened'): 1, ('opened', 'his'): 1, ('his', 'race'): 1, ('race', 'for'): 1, ('governor', 'in'): 1, ('in', '1958'): 1, ('1958', 'with'): 1, ('a', 'battle'): 1, ('battle', 'in'): 1, ('the', 'legislature'): 1, ('legislature', 'against'): 1, ('against', 'the'): 1, ('the', 'issuance'): 1, ('issuance', 'of'): 1, ('of', '$50'): 1, ('$50', 'million'): 1, ('of', 'additional'): 1, ('additional', 'rural'): 1, ('bonds', 'proposed'): 1, ('proposed', 'by'): 1, ('by', 'then'): 1, ('then', 'gov.'): 1, ('gov.', 'marvin'): 1, ('marvin', 'griffin'): 1, ('source', 'told'): 1, ('told', 'the'): 1, ('the', 'constitution'): 1, ('constitution', ','): 1, (',', 'that'): 1, ('that', 'vandiver'): 1, ('vandiver', 'has'): 1, ('not', 'been'): 1, ('been', 'consulted'): 1, ('consulted', 'yet'): 1, ('yet', 'about'): 1, ('about', 'the'): 1, ('the', 'plans'): 1, ('plans', 'to'): 1, ('new', 'rural'): 1, ('<s>', 'schley'): 1, ('schley', 'county'): 1, ('county', 'rep.'): 1, ('rep.', 'b.'): 1, ('b.', 'd.'): 1, ('d.', 'pelham'): 1, ('pelham', 'will'): 1, ('will', 'offer'): 1, ('offer', 'a'): 1, ('resolution', 'monday'): 1, ('monday', 'in'): 1, ('house', 'to'): 1, ('the', \"body's\"): 1, (\"body's\", 'action'): 1, ('action', 'of'): 1, ('of', 'friday'): 1, ('friday', 'in'): 1, ('in', 'voting'): 1, ('voting', 'itself'): 1, ('itself', 'a'): 1, ('a', '$10'): 1, ('$10', 'per'): 1, ('per', 'day'): 1, ('day', 'increase'): 1, ('in', 'expense'): 1, ('expense', 'allowances'): 1, ('allowances', '.'): 1, ('said', 'sunday'): 1, ('night', 'there'): 1, ('was', 'research'): 1, ('research', 'being'): 1, ('being', 'done'): 1, ('done', 'on'): 1, ('on', 'whether'): 1, ('whether', 'the'): 1, ('``', 'quickie'): 1, ('quickie', \"''\"): 1, (\"''\", 'vote'): 1, ('the', 'increase'): 1, ('increase', 'can'): 1, ('can', 'be'): 1, ('be', 'repealed'): 1, ('repealed', 'outright'): 1, ('outright', 'or'): 1, ('or', 'whether'): 1, ('whether', 'notice'): 1, ('notice', 'would'): 1, ('to', 'first'): 1, ('first', 'be'): 1, ('be', 'given'): 1, ('given', 'that'): 1, ('that', 'reconsideration'): 1, ('reconsideration', 'of'): 1, ('action', 'would'): 1, ('be', 'sought'): 1, ('sought', '.'): 1, ('<s>', 'while'): 1, ('while', 'emphasizing'): 1, ('emphasizing', 'that'): 1, ('that', 'technical'): 1, ('technical', 'details'): 1, ('details', 'were'): 1, ('were', 'not'): 1, ('not', 'fully'): 1, ('fully', 'worked'): 1, ('worked', 'out'): 1, ('out', ','): 1, (',', 'pelham'): 1, ('said', 'his'): 1, ('his', 'resolution'): 1, ('resolution', 'would'): 1, ('would', 'seek'): 1, ('seek', 'to'): 1, ('to', 'set'): 1, ('set', 'aside'): 1, ('aside', 'the'): 1, ('the', 'privilege'): 1, ('resolution', 'which'): 1, ('house', 'voted'): 1, ('voted', 'through'): 1, ('through', '87-31'): 1, ('87-31', '.'): 1, ('a', 'similar'): 1, ('similar', 'resolution'): 1, ('resolution', 'passed'): 1, ('passed', 'in'): 1, ('senate', 'by'): 1, ('by', 'a'): 1, ('a', 'vote'): 1, ('vote', 'of'): 1, ('of', '29-5'): 1, ('29-5', '.'): 1, ('<s>', 'as'): 1, ('as', 'of'): 1, ('of', 'sunday'): 1, ('night', ','): 1, ('was', 'no'): 1, ('no', 'word'): 1, ('word', 'of'): 1, ('resolution', 'being'): 1, ('being', 'offered'): 1, ('offered', 'there'): 1, ('action', '.'): 1, ('pelham', 'pointed'): 1, ('pointed', 'out'): 1, ('out', 'that'): 1, ('that', 'georgia'): 1, ('georgia', 'voters'): 1, ('voters', 'last'): 1, ('last', 'november'): 1, ('november', 'rejected'): 1, ('rejected', 'a'): 1, ('a', 'constitutional'): 1, ('constitutional', 'amendment'): 1, ('amendment', 'to'): 1, ('to', 'allow'): 1, ('allow', 'legislators'): 1, ('legislators', 'to'): 1, ('to', 'vote'): 1, ('on', 'pay'): 1, ('raises', 'for'): 1, ('for', 'future'): 1, ('future', 'legislature'): 1, ('legislature', 'sessions'): 1, ('sessions', '.'): 1, ('veteran', 'jackson'): 1, ('jackson', 'county'): 1, ('county', 'legislator'): 1, ('legislator', 'will'): 1, ('will', 'ask'): 1, ('ask', 'the'): 1, ('georgia', 'house'): 1, ('house', 'monday'): 1, ('monday', 'to'): 1, ('to', 'back'): 1, ('back', 'federal'): 1, ('federal', 'aid'): 1, ('aid', 'to'): 1, ('to', 'education'): 1, (',', 'something'): 1, ('something', 'it'): 1, ('it', 'has'): 1, ('has', 'consistently'): 1, ('consistently', 'opposed'): 1, ('opposed', 'in'): 1, ('the', 'past'): 1, ('past', '.'): 1, ('<s>', 'rep.'): 1, ('rep.', 'mac'): 1, ('mac', 'barber'): 1, ('barber', 'of'): 1, ('of', 'commerce'): 1, ('commerce', 'is'): 1, ('is', 'asking'): 1, ('asking', 'the'): 1, ('house', 'in'): 1, ('a', 'privilege'): 1, ('resolution', 'to'): 1, ('``', 'endorse'): 1, ('endorse', 'increased'): 1, ('increased', 'federal'): 1, ('federal', 'support'): 1, ('support', 'for'): 1, ('for', 'public'): 1, ('public', 'education'): 1, (',', 'provided'): 1, ('provided', 'that'): 1, ('that', 'such'): 1, ('such', 'funds'): 1, ('funds', 'be'): 1, ('be', 'received'): 1, ('received', 'and'): 1, ('and', 'expended'): 1, ('expended', \"''\"): 1, (\"''\", 'as'): 1, ('as', 'state'): 1, ('state', 'funds'): 1, ('funds', '.'): 1, ('<s>', 'barber'): 1, ('barber', ','): 1, ('who', 'is'): 1, ('is', 'in'): 1, ('in', 'his'): 1, ('his', '13th'): 1, ('13th', 'year'): 1, ('year', 'as'): 1, ('a', 'legislator'): 1, ('legislator', ','): 1, ('there', '``'): 1, ('are', 'some'): 1, ('some', 'members'): 1, ('members', 'of'): 1, ('of', 'our'): 1, ('our', 'congressional'): 1, ('congressional', 'delegation'): 1, ('delegation', 'in'): 1, ('in', 'washington'): 1, ('washington', 'who'): 1, ('who', 'would'): 1, ('would', 'like'): 1, ('like', 'to'): 1, ('to', 'see'): 1, ('see', 'it'): 1, ('it', '('): 1, ('(', 'the'): 1, ('resolution', ')'): 1, (')', 'passed'): 1, ('passed', \"''\"): 1, ('<s>', 'but'): 1, ('but', 'he'): 1, ('he', 'added'): 1, ('that', 'none'): 1, (\"georgia's\", 'congressmen'): 1, ('congressmen', 'specifically'): 1, ('specifically', 'asked'): 1, ('asked', 'him'): 1, ('him', 'to'): 1, ('to', 'offer'): 1, ('offer', 'the'): 1, ('resolution', '.'): 1, ('resolution', ','): 1, ('which', 'barber'): 1, ('barber', 'tossed'): 1, ('tossed', 'into'): 1, ('into', 'the'): 1, ('house', 'hopper'): 1, ('hopper', 'friday'): 1, ('friday', ','): 1, (',', 'will'): 1, ('be', 'formally'): 1, ('formally', 'read'): 1, ('read', 'monday'): 1, ('monday', '.'): 1, ('it', 'says'): 1, ('``', 'in'): 1, ('the', 'event'): 1, ('event', 'congress'): 1, ('congress', 'does'): 1, ('does', 'provide'): 1, ('provide', 'this'): 1, ('this', 'increase'): 1, ('in', 'federal'): 1, ('state', 'board'): 1, ('board', 'of'): 1, ('of', 'education'): 1, ('education', 'should'): 1, ('be', 'directed'): 1, ('directed', 'to'): 1, ('``', 'give'): 1, ('give', 'priority'): 1, ('priority', \"''\"): 1, (\"''\", 'to'): 1, ('to', 'teacher'): 1, ('teacher', 'pay'): 1, ('raises', '.'): 1, ('<s>', 'colquitt'): 1, ('--', 'after'): 1, ('after', 'a'): 1, ('a', 'long'): 1, ('long', ','): 1, (',', 'hot'): 1, ('hot', 'controversy'): 1, (',', 'miller'): 1, ('county', 'has'): 1, ('has', 'a'): 1, ('a', 'new'): 1, (',', 'elected'): 1, ('elected', ','): 1, (',', 'as'): 1, ('a', 'policeman'): 1, ('policeman', 'put'): 1, ('put', 'it'): 1, ('it', ','): 1, ('``', 'coolest'): 1, ('coolest', 'election'): 1, ('saw', 'in'): 1, ('in', 'this'): 1, ('this', 'county'): 1, ('county', \"''\"): 1, ('superintendent', 'is'): 1, ('is', 'harry'): 1, ('harry', 'davis'): 1, ('davis', ','): 1, ('veteran', 'agriculture'): 1, ('agriculture', 'teacher'): 1, ('teacher', ','): 1, ('who', 'defeated'): 1, ('defeated', 'felix'): 1, ('felix', 'bush'): 1, ('a', 'school'): 1, ('school', 'principal'): 1, ('principal', 'and'): 1, ('and', 'chairman'): 1, ('chairman', 'of'): 1, ('the', 'miller'): 1, ('county', 'democratic'): 1, ('democratic', 'executive'): 1, ('<s>', 'davis'): 1, ('davis', 'received'): 1, ('received', '1,119'): 1, ('1,119', 'votes'): 1, ('votes', 'in'): 1, ('in', \"saturday's\"): 1, (\"saturday's\", 'election'): 1, ('bush', 'got'): 1, ('got', '402'): 1, ('402', '.'): 1, ('ordinary', 'carey'): 1, ('carey', 'williams'): 1, ('williams', ','): 1, (',', 'armed'): 1, ('armed', 'with'): 1, ('a', 'pistol'): 1, ('pistol', ','): 1, (',', 'stood'): 1, ('stood', 'by'): 1, ('by', 'at'): 1, ('polls', 'to'): 1, ('to', 'insure'): 1, ('insure', 'order'): 1, ('order', '.'): 1, ('this', 'was'): 1, ('was', 'the'): 1, ('the', 'coolest'): 1, ('coolest', ','): 1, (',', 'calmest'): 1, ('calmest', 'election'): 1, ('saw', \"''\"): 1, (',', 'colquitt'): 1, ('colquitt', 'policeman'): 1, ('policeman', 'tom'): 1, ('tom', 'williams'): 1, ('``', 'being'): 1, ('polls', 'was'): 1, ('was', 'just'): 1, ('just', 'like'): 1, ('like', 'being'): 1, ('at', 'church'): 1, ('church', '.'): 1, ('<s>', 'i'): 1, ('i', \"didn't\"): 1, (\"didn't\", 'smell'): 1, ('smell', 'a'): 1, ('a', 'drop'): 1, ('drop', 'of'): 1, ('of', 'liquor'): 1, ('liquor', ','): 1, ('and', 'we'): 1, ('we', \"didn't\"): 1, (\"didn't\", 'have'): 1, ('the', 'campaign'): 1, ('campaign', 'leading'): 1, ('leading', 'to'): 1, ('was', 'not'): 1, ('not', 'so'): 1, ('so', 'quiet'): 1, ('quiet', ','): 1, ('however', '.'): 1, ('was', 'marked'): 1, ('marked', 'by'): 1, ('by', 'controversy'): 1, (',', 'anonymous'): 1, ('anonymous', 'midnight'): 1, ('midnight', 'phone'): 1, ('phone', 'calls'): 1, ('calls', 'and'): 1, ('and', 'veiled'): 1, ('veiled', 'threats'): 1, ('threats', 'of'): 1, ('of', 'violence'): 1, ('violence', '.'): 1, ('the', 'former'): 1, ('former', 'county'): 1, (',', 'george'): 1, ('george', 'p.'): 1, ('p.', 'callan'): 1, ('callan', ','): 1, (',', 'shot'): 1, ('shot', 'himself'): 1, ('himself', 'to'): 1, ('to', 'death'): 1, ('death', 'march'): 1, ('march', '18'): 1, ('18', ','): 1, (',', 'four'): 1, ('four', 'days'): 1, ('days', 'after'): 1, ('he', 'resigned'): 1, ('resigned', 'his'): 1, ('his', 'post'): 1, ('post', 'in'): 1, ('a', 'dispute'): 1, ('dispute', 'with'): 1, ('school', 'board'): 1, ('board', '.'): 1, ('<s>', 'during'): 1, ('during', 'the'): 1, ('election', 'campaign'): 1, ('campaign', ','): 1, (',', 'both'): 1, ('both', 'candidates'): 1, ('candidates', ','): 1, (',', 'davis'): 1, ('davis', 'and'): 1, (',', 'reportedly'): 1, ('reportedly', 'received'): 1, ('received', 'anonymous'): 1, ('anonymous', 'telephone'): 1, ('telephone', 'calls'): 1, ('calls', '.'): 1, ('ordinary', 'williams'): 1, ('said', 'he'): 1, ('he', ','): 1, (',', 'too'): 1, ('too', ','): 1, (',', 'was'): 1, ('was', 'subjected'): 1, ('subjected', 'to'): 1, ('to', 'anonymous'): 1, ('anonymous', 'calls'): 1, ('calls', 'soon'): 1, ('soon', 'after'): 1, ('he', 'scheduled'): 1, ('scheduled', 'the'): 1, ('<s>', 'many'): 1, ('many', 'local'): 1, ('local', 'citizens'): 1, ('citizens', 'feared'): 1, ('feared', 'that'): 1, ('that', 'there'): 1, ('there', 'would'): 1, ('be', 'irregularities'): 1, ('irregularities', 'at'): 1, ('polls', ','): 1, ('and', 'williams'): 1, ('williams', 'got'): 1, ('got', 'himself'): 1, ('himself', 'a'): 1, ('a', 'permit'): 1, ('permit', 'to'): 1, ('to', 'carry'): 1, ('carry', 'a'): 1, ('a', 'gun'): 1, ('gun', 'and'): 1, ('and', 'promised'): 1, ('promised', 'an'): 1, ('orderly', 'election'): 1, ('<s>', 'sheriff'): 1, ('sheriff', 'felix'): 1, ('felix', 'tabb'): 1, ('tabb', 'said'): 1, ('said', 'the'): 1, ('the', 'ordinary'): 1, ('ordinary', 'apparently'): 1, ('apparently', 'made'): 1, ('made', 'good'): 1, ('good', 'his'): 1, ('his', 'promise'): 1, ('promise', '.'): 1, ('``', 'everything'): 1, ('everything', 'went'): 1, ('went', 'real'): 1, ('real', 'smooth'): 1, ('smooth', \"''\"): 1, ('the', 'sheriff'): 1, ('sheriff', 'said'): 1, ('there', \"wasn't\"): 1, (\"wasn't\", 'a'): 1, ('<s>', 'austin'): 1, ('austin', ','): 1, (',', 'texas'): 1, ('--', 'committee'): 1, ('committee', 'approval'): 1, ('approval', 'of'): 1, ('of', 'gov.'): 1, ('gov.', 'price'): 1, ('price', \"daniel's\"): 1, (\"daniel's\", '``'): 1, ('``', 'abandoned'): 1, ('abandoned', 'property'): 1, ('property', \"''\"): 1, (\"''\", 'act'): 1, ('act', 'seemed'): 1, ('seemed', 'certain'): 1, ('certain', 'thursday'): 1, ('thursday', 'despite'): 1, ('the', 'adamant'): 1, ('adamant', 'protests'): 1, ('protests', 'of'): 1, ('of', 'texas'): 1, ('texas', 'bankers'): 1, ('bankers', '.'): 1})\n",
      "813\n"
     ]
    }
   ],
   "source": [
    "n = 3  # You can change this to 1, 2, or 3 for uni, bi, or trigrams\n",
    "model = NGramModel(corpus, n)\n",
    "\n",
    "tokens = model.tokenize()\n",
    "ngrams = model.generate_ngrams(tokens)\n",
    "model.count_frequencies()\n",
    "model.calculate_probabilities()\n",
    "\n",
    "write_freqs(model.most_frequent_ngrams(10), 'trigrams')"
   ]
  },
  {
   "cell_type": "markdown",
   "metadata": {},
   "source": [
    "### Smoothing\n",
    "Below, we generate **bigrams** with **smoothing** applied by setting `n = 2` and including a smoothing parameter `alpha = 1.0`. Smoothing is useful in language models to handle unseen n-grams by assigning a small probability to them. The model tokenizes the text, generates bigrams, counts their frequencies, and calculates smoothed probabilities. The most frequent bigrams are then written to an output file.\n",
    "\n",
    "\n",
    "\n"
   ]
  },
  {
   "cell_type": "code",
<<<<<<< Updated upstream
   "execution_count": null,
=======
   "execution_count": 13,
>>>>>>> Stashed changes
   "metadata": {},
   "outputs": [
    {
     "name": "stdout",
     "output_type": "stream",
     "text": [
      "Counter({('the',): 156, ('<s>',): 100, ('.',): 89, (',',): 88, ('of',): 67, ('to',): 55, ('a',): 54, ('in',): 40, ('and',): 40, ('``',): 35, (\"''\",): 34, ('that',): 28, ('said',): 24, ('for',): 22, ('be',): 21, ('it',): 19, ('jury',): 18, ('was',): 18, ('county',): 15, ('fulton',): 14, ('election',): 14, ('will',): 14, ('which',): 13, ('as',): 13, ('is',): 12, ('state',): 12, ('his',): 12, ('there',): 11, ('by',): 10, ('on',): 10, ('has',): 10, ('city',): 9, ('this',): 9, ('department',): 9, ('at',): 9, ('would',): 9, ('resolution',): 9, ('funds',): 8, ('been',): 7, ('he',): 7, ('highway',): 7, ('an',): 6, ('these',): 6, ('should',): 6, ('with',): 6, ('some',): 6, ('new',): 6, ('not',): 6, ('who',): 6, ('rural',): 6, ('bonds',): 6, ('atlanta',): 5, ('are',): 5, ('have',): 5, ('its',): 5, ('work',): 5, ('hartsfield',): 5, ('williams',): 5, ('pelham',): 5, ('republicans',): 5, ('--',): 5, ('campaign',): 5, ('monday',): 5, ('million',): 5, ('issue',): 5, ('being',): 5, ('house',): 5, ('school',): 5, ('grand',): 4, ('friday',): 4, ('primary',): 4, ('no',): 4, ('place',): 4, ('committee',): 4, ('court',): 4, ('received',): 4, ('voters',): 4, (\"georgia's\",): 4, ('or',): 4, ('recommended',): 4, ('legislators',): 4, ('legislature',): 4, ('welfare',): 4, ('federal',): 4, ('one',): 4, ('from',): 4, ('1',): 4, ('night',): 4, ('mayor',): 4, ('petition',): 4, ('candidate',): 4, ('after',): 4, ('georgia',): 4, ('race',): 4, ('vote',): 4, ('first',): 4, ('gov.',): 4, ('expected',): 4, ('vandiver',): 4, ('roads',): 4, ('irregularities',): 3, ('had',): 3, ('term',): 3, ('jr.',): 3, ('number',): 3, ('act',): 3, ('practices',): 3, ('both',): 3, ('however',): 3, ('two',): 3, ('law',): 3, ('also',): 3, ('but',): 3, ('they',): 3, ('under',): 3, ('into',): 3, ('elected',): 3, ('when',): 3, ('added',): 3, ('jail',): 3, ('(',): 3, (')',): 3, ('2',): 3, ('listed',): 3, (\"mayor's\",): 3, ('more',): 3, ('chairman',): 3, ('texas',): 3, ('out',): 3, ('whether',): 3, ('make',): 3, ('must',): 3, ('bond',): 3, ('worth',): 3, ('action',): 3, ('increase',): 3, ('education',): 3, ('barber',): 3, ('superintendent',): 3, ('i',): 3, ('davis',): 3, ('bush',): 3, ('ordinary',): 3, ('polls',): 3, ('anonymous',): 3, ('calls',): 3, (\"atlanta's\",): 2, ('took',): 2, ('executive',): 2, ('charge',): 2, ('manner',): 2, ('charged',): 2, ('superior',): 2, ('reports',): 2, ('ivan',): 2, ('allen',): 2, ('such',): 2, ('interest',): 2, ('did',): 2, ('many',): 2, ('laws',): 2, ('them',): 2, ('commented',): 2, ('other',): 2, ('purchasing',): 2, ('departments',): 2, ('operated',): 2, ('follow',): 2, ('proposed',): 2, ('administration',): 2, ('personnel',): 2, ('urged',): 2, ('take',): 2, ('implementation',): 2, ('provide',): 2, ('enabling',): 2, ('so',): 2, ('orderly',): 2, ('general',): 2, ('program',): 2, ('through',): 2, ('counties',): 2, ('exception',): 2, ('none',): 2, ('money',): 2, ('jurors',): 2, ('our',): 2, ('we',): 2, ('future',): 2, ('portion',): 2, ('wards',): 2, ('citizens',): 2, ('airport',): 2, ('jan.',): 2, ('political',): 2, ('ask',): 2, ('deputies',): 2, (':',): 2, ('four',): 2, ('additional',): 2, ('employed',): 2, ('permit',): 2, ('plan',): 2, ('tax',): 2, ('office',): 2, ('william',): 2, ('b.',): 2, ('suit',): 2, ('wife',): 2, ('couple',): 2, ('griffin',): 2, ('property',): 2, ('attorney',): 2, ('age',): 2, ('than',): 2, ('year',): 2, ('home',): 2, ('back',): 2, ('succeeded',): 2, ('sept.',): 2, ('enter',): 2, ('meeting',): 2, ('held',): 2, ('tuesday',): 2, ('blue',): 2, ('ridge',): 2, ('audience',): 2, ('party',): 2, ('up',): 2, ('governor',): 2, ('petitions',): 2, ('voting',): 2, ('despite',): 2, ('asked',): 2, ('voted',): 2, ('were',): 2, ('says',): 2, ('before',): 2, ('per',): 2, ('candidates',): 2, ('system',): 2, ('caldwell',): 2, ('public',): 2, ('resigned',): 2, ('time',): 2, ('session',): 2, ('approved',): 2, ('adjournment',): 2, ('senate',): 2, ('made',): 2, ('priority',): 2, ('construction',): 2, ('test',): 2, ('then',): 2, ('source',): 2, ('authority',): 2, ('revolving',): 2, ('fund',): 2, ('apparently',): 2, ('rep.',): 2, ('offer',): 2, ('rescind',): 2, ('sunday',): 2, ('privilege',): 2, ('passed',): 2, ('pay',): 2, ('raises',): 2, ('veteran',): 2, ('legislator',): 2, ('like',): 2, ('board',): 2, ('teacher',): 2, ('colquitt',): 2, ('controversy',): 2, ('miller',): 2, ('policeman',): 2, ('coolest',): 2, ('ever',): 2, ('saw',): 2, ('felix',): 2, ('got',): 2, (\"didn't\",): 2, ('bit',): 2, ('trouble',): 2, ('himself',): 2, ('sheriff',): 2, ('investigation',): 1, ('recent',): 1, ('produced',): 1, ('evidence',): 1, ('any',): 1, ('further',): 1, ('term-end',): 1, ('presentments',): 1, ('over-all',): 1, ('deserves',): 1, ('praise',): 1, ('thanks',): 1, ('conducted',): 1, ('september-october',): 1, ('judge',): 1, ('durwood',): 1, ('pye',): 1, ('investigate',): 1, ('possible',): 1, ('hard-fought',): 1, ('won',): 1, ('mayor-nominate',): 1, ('only',): 1, ('relative',): 1, ('handful',): 1, ('considering',): 1, ('widespread',): 1, ('size',): 1, ('find',): 1, ('registration',): 1, ('outmoded',): 1, ('inadequate',): 1, ('often',): 1, ('ambiguous',): 1, ('studied',): 1, ('revised',): 1, ('end',): 1, ('modernizing',): 1, ('improving',): 1, ('topics',): 1, ('among',): 1, ('well',): 1, ('generally',): 1, ('accepted',): 1, ('inure',): 1, ('best',): 1, ('governments',): 1, ('merger',): 1, ('believes',): 1, ('offices',): 1, ('combined',): 1, ('achieve',): 1, ('greater',): 1, ('efficiency',): 1, ('reduce',): 1, ('cost',): 1, ('lacking',): 1, ('experienced',): 1, ('clerical',): 1, ('result',): 1, ('policies',): 1, ('steps',): 1, ('remedy',): 1, ('problem',): 1, ('automobile',): 1, ('title',): 1, ('outgoing',): 1, ('next',): 1, ('re-set',): 1, ('effective',): 1, ('date',): 1, ('may',): 1, ('effected',): 1, ('swipe',): 1, (\"department's\",): 1, ('handling',): 1, ('granted',): 1, ('child',): 1, ('services',): 1, ('foster',): 1, ('homes',): 1, ('major',): 1, ('items',): 1, ('assistance',): 1, ('seen',): 1, ('fit',): 1, ('distribute',): 1, ('all',): 1, ('receives',): 1, ('realize',): 1, ('proportionate',): 1, ('distribution',): 1, ('might',): 1, ('disable',): 1, ('less',): 1, ('populous',): 1, ('nevertheless',): 1, ('feel',): 1, ('receive',): 1, ('available',): 1, ('failure',): 1, ('do',): 1, ('continue',): 1, ('disproportionate',): 1, ('burden',): 1, ('taxpayers',): 1, (\"ordinary's\",): 1, ('fire',): 1, ('appointment',): 1, ('appraisers',): 1, ('guardians',): 1, ('administrators',): 1, ('awarding',): 1, ('fees',): 1, ('compensation',): 1, ('protected',): 1, ('found',): 1, ('incorporated',): 1, ('operating',): 1, ('procedures',): 1, ('recommendations',): 1, ('previous',): 1, ('juries',): 1, ('bar',): 1, ('association',): 1, ('interim',): 1, ('actions',): 1, ('serve',): 1, ('protect',): 1, ('fact',): 1, ('effect',): 1, (\"court's\",): 1, ('undue',): 1, ('costs',): 1, ('appointed',): 1, ('servants',): 1, ('unmeritorious',): 1, ('criticisms',): 1, ('regarding',): 1, ('multi-million-dollar',): 1, ('management',): 1, ('takes',): 1, ('eliminate',): 1, ('influences',): 1, ('elaborate',): 1, ('periodic',): 1, ('surveillance',): 1, ('pricing',): 1, ('concessionaires',): 1, ('purpose',): 1, ('keeping',): 1, ('prices',): 1, ('reasonable',): 1, ('matters',): 1, ('doctor',): 1, ('medical',): 1, ('intern',): 1, ('extern',): 1, ('weekend',): 1, ('duty',): 1, ('officials',): 1, ('pass',): 1, ('legislation',): 1, ('establishment',): 1, ('fair',): 1, ('equitable',): 1, ('pension',): 1, ('employes',): 1, ('praised',): 1, ('operation',): 1, ('police',): 1, (\"commissioner's\",): 1, ('bellwood',): 1, ('alpharetta',): 1, ('prison',): 1, ('farms',): 1, ('grady',): 1, ('hospital',): 1, ('health',): 1, ('filed',): 1, ('divorce',): 1, ('pearl',): 1, ('mental',): 1, ('cruelty',): 1, ('married',): 1, ('aug.',): 1, ('1913',): 1, ('son',): 1, ('berry',): 1, ('daughter',): 1, ('mrs.',): 1, ('j.',): 1, ('m.',): 1, ('cheshire',): 1, ('attorneys',): 1, ('amicable',): 1, ('settlement',): 1, ('agreed',): 1, ('upon',): 1, ('occupation',): 1, ('71',): 1, (\"wife's\",): 1, ('74',): 1, ('birth',): 1, ('opelika',): 1, ('ala.',): 1, ('lived',): 1, ('together',): 1, ('man',): 1, ('637',): 1, ('e.',): 1, ('rd.',): 1, ('aj',): 1, ('henry',): 1, ('l.',): 1, ('bowden',): 1, ('brief',): 1, ('interlude',): 1, ('since',): 1, ('1937',): 1, ('career',): 1, ('goes',): 1, ('council',): 1, ('1923',): 1, ('present',): 1, ('expires',): 1, ('became',): 1, ('13',): 1, ('announced',): 1, ('run',): 1, ('reelection',): 1, ('getting',): 1, ('strong',): 1, ('encouragement',): 1, ('1962',): 1, (\"governor's\",): 1, ('top',): 1, ('official',): 1, ('wednesday',): 1, ('robert',): 1, ('snodgrass',): 1, ('gop',): 1, ('brought',): 1, ('enthusiastic',): 1, ('responses',): 1, ('james',): 1, ('w.',): 1, ('dorsey',): 1, ('enthusiasm',): 1, ('picking',): 1, ('rally',): 1, ('8',): 1, ('savannah',): 1, ('newly',): 1, ('sen.',): 1, ('john',): 1, ('tower',): 1, ('featured',): 1, ('speaker',): 1, ('warned',): 1, ('entering',): 1, ('force',): 1, ('precincts',): 1, ('obtain',): 1, ('signatures',): 1, ('registered',): 1, ('warning',): 1, ('unanimous',): 1, ('according',): 1, ('attended',): 1, ('crowd',): 1, ('wanted',): 1, ('wait',): 1, ('dissents',): 1, ('largest',): 1, ('hurdle',): 1, ('face',): 1, ('making',): 1, ('alternative',): 1, ('courses',): 1, ('taken',): 1, ('five',): 1, ('cent',): 1, ('each',): 1, ('sign',): 1, ('requesting',): 1, ('allowed',): 1, ('names',): 1, ('ballot',): 1, ('hold',): 1, ('unit',): 1, ('opposes',): 1, ('platform',): 1, ('sam',): 1, ('relations',): 1, ('director',): 1, ('lt.',): 1, ('garland',): 1, (\"byrd's\",): 1, (\"caldwell's\",): 1, ('resignation',): 1, ('rob',): 1, ('ledford',): 1, ('gainesville',): 1, ('assistant',): 1, ('three',): 1, ('years',): 1, ('gubernatorial',): 1, ('starts',): 1, ('become',): 1, ('coordinator',): 1, ('byrd',): 1, ('wind',): 1, ('1961',): 1, ('head',): 1, ('where',): 1, ('shortly',): 1, ('afternoon',): 1, ('approve',): 1, ('study',): 1, ('allotted',): 1, ('urban',): 1, ('areas',): 1, ('determine',): 1, ('what',): 1, ('adjustments',): 1, ('traditional',): 1, ('visit',): 1, ('chambers',): 1, ('toward',): 1, ('likely',): 1, ('mention',): 1, ('$100',): 1, ('earlier',): 1, ('item',): 1, ('meanwhile',): 1, ('learned',): 1, ('very',): 1, ('near',): 1, ('ready',): 1, ('$30',): 1, ('reconstruction',): 1, ('go',): 1, ('courts',): 1, ('friendly',): 1, ('validity',): 1, ('sales',): 1, ('begin',): 1, ('contracts',): 1, ('let',): 1, ('repair',): 1, ('most',): 1, ('heavily',): 1, ('traveled',): 1, ('highways',): 1, ('$3',): 1, ('$4',): 1, ('road',): 1, ('intends',): 1, ('issued',): 1, ('every',): 1, ('old',): 1, ('ones',): 1, ('paid',): 1, ('off',): 1, ('authorities',): 1, ('opened',): 1, ('1958',): 1, ('battle',): 1, ('against',): 1, ('issuance',): 1, ('$50',): 1, ('marvin',): 1, ('told',): 1, ('constitution',): 1, ('consulted',): 1, ('yet',): 1, ('about',): 1, ('plans',): 1, ('schley',): 1, ('d.',): 1, (\"body's\",): 1, ('itself',): 1, ('$10',): 1, ('day',): 1, ('expense',): 1, ('allowances',): 1, ('research',): 1, ('done',): 1, ('quickie',): 1, ('can',): 1, ('repealed',): 1, ('outright',): 1, ('notice',): 1, ('given',): 1, ('reconsideration',): 1, ('sought',): 1, ('while',): 1, ('emphasizing',): 1, ('technical',): 1, ('details',): 1, ('fully',): 1, ('worked',): 1, ('seek',): 1, ('set',): 1, ('aside',): 1, ('87-31',): 1, ('similar',): 1, ('29-5',): 1, ('word',): 1, ('offered',): 1, ('pointed',): 1, ('last',): 1, ('november',): 1, ('rejected',): 1, ('constitutional',): 1, ('amendment',): 1, ('allow',): 1, ('sessions',): 1, ('jackson',): 1, ('aid',): 1, ('something',): 1, ('consistently',): 1, ('opposed',): 1, ('past',): 1, ('mac',): 1, ('commerce',): 1, ('asking',): 1, ('endorse',): 1, ('increased',): 1, ('support',): 1, ('provided',): 1, ('expended',): 1, ('13th',): 1, ('members',): 1, ('congressional',): 1, ('delegation',): 1, ('washington',): 1, ('see',): 1, ('congressmen',): 1, ('specifically',): 1, ('him',): 1, ('tossed',): 1, ('hopper',): 1, ('formally',): 1, ('read',): 1, ('event',): 1, ('congress',): 1, ('does',): 1, ('directed',): 1, ('give',): 1, ('long',): 1, ('hot',): 1, ('put',): 1, ('harry',): 1, ('agriculture',): 1, ('defeated',): 1, ('principal',): 1, ('democratic',): 1, ('1,119',): 1, ('votes',): 1, (\"saturday's\",): 1, ('402',): 1, ('carey',): 1, ('armed',): 1, ('pistol',): 1, ('stood',): 1, ('insure',): 1, ('order',): 1, ('calmest',): 1, ('tom',): 1, ('just',): 1, ('church',): 1, ('smell',): 1, ('drop',): 1, ('liquor',): 1, ('leading',): 1, ('quiet',): 1, ('marked',): 1, ('midnight',): 1, ('phone',): 1, ('veiled',): 1, ('threats',): 1, ('violence',): 1, ('former',): 1, ('george',): 1, ('p.',): 1, ('callan',): 1, ('shot',): 1, ('death',): 1, ('march',): 1, ('18',): 1, ('days',): 1, ('post',): 1, ('dispute',): 1, ('during',): 1, ('reportedly',): 1, ('telephone',): 1, ('too',): 1, ('subjected',): 1, ('soon',): 1, ('scheduled',): 1, ('local',): 1, ('feared',): 1, ('carry',): 1, ('gun',): 1, ('promised',): 1, ('tabb',): 1, ('good',): 1, ('promise',): 1, ('everything',): 1, ('went',): 1, ('real',): 1, ('smooth',): 1, (\"wasn't\",): 1, ('austin',): 1, ('approval',): 1, ('price',): 1, (\"daniel's\",): 1, ('abandoned',): 1, ('seemed',): 1, ('certain',): 1, ('thursday',): 1, ('adamant',): 1, ('protests',): 1, ('bankers',): 1})\n"
     ]
    }
   ],
   "source": [
    "n = 2  # You can change this to 1, 2, or 3 for uni, bi, or trigrams\n",
    "model = NGramModel(corpus, n, alpha=1.0)\n",
    "\n",
    "tokens = model.tokenize()\n",
    "ngrams = model.generate_ngrams(tokens)\n",
    "model.count_frequencies()\n",
    "model.calculate_probabilities()\n",
    "\n",
    "write_freqs(model.most_frequent_ngrams(10), 'bigrams_smoothed')"
   ]
  },
  {
   "cell_type": "markdown",
   "metadata": {},
   "source": [
    "### Generating Text\n",
    "In this example, we generate text using the **bigrams** model by providing a starting **prompt** (e.g., \"the jury\"). The `generate_text` function creates a sequence of words based on the trained bigram model, starting from the provided prompt and continuing based on the probabilities of the next words.\n",
    "\n",
    "After tokenizing the corpus, generating bigrams, and calculating their frequencies and probabilities, the model uses these learned probabilities to generate text. The generated output is then written to a file.\n",
    "\n",
    "Text generation with n-grams helps illustrate how language models can predict word sequences, allowing us to create new sentences that follow similar patterns found in the original text."
   ]
  },
  {
   "cell_type": "code",
   "execution_count": null,
   "metadata": {},
   "outputs": [],
   "source": [
    "def generate_text(model: NGramModel, n: int, prompt: str) -> str:\n",
<<<<<<< Updated upstream
    "    raise NotImplementedError\n",
=======
    "    \"\"\"\n",
    "    Generate text using the n-gram model starting from the given prompt.\n",
    "    \n",
    "    Args:\n",
    "        model: The trained n-gram model\n",
    "        n: The size of n-grams to use and the maximum length of the generated text\n",
    "        prompt: The starting text to continue from\n",
    "        \n",
    "    Returns:\n",
    "        A string of generated text\n",
    "    \"\"\"\n",
    "    generated_tokens = prompt.split()\n",
    "    \n",
    "    max_length = len(generated_tokens) + n # Prevent infinite generation\n",
    "    while len(generated_tokens) < max_length:\n",
    "        # Get the last n-1 tokens as context\n",
    "        context = tuple(generated_tokens[-(n-1):]) if n > 1 else tuple()\n",
    "        \n",
    "        # Find all possible next tokens based on the context\n",
    "        possible_next = []\n",
    "        for ngram, prob in model.probabilities.items():\n",
    "            if ngram[:-1] == context:\n",
    "                possible_next.append((ngram[-1], prob))\n",
    "        \n",
    "        if not possible_next:\n",
    "            break  # No possible continuation\n",
    "            \n",
    "        # Choose next token based on probabilities\n",
    "        next_token = max(possible_next, key=lambda x: x[1])[0]\n",
    "\n",
    "        # Add the chosen token\n",
    "        generated_tokens.append(next_token)\n",
    "        \n",
    "        # Stop if we reach a sentence end\n",
    "        if next_token == '</s>':\n",
    "            break\n",
    "            \n",
>>>>>>> Stashed changes
    "    return ' '.join(generated_tokens)\n",
    "\n",
    "tokens = model.tokenize()\n",
    "ngrams = model.generate_ngrams(tokens)\n",
    "model.count_frequencies()\n",
    "model.calculate_probabilities()\n",
    "generated_text = generate_text(model, 2, 'the jury')\n",
    "with open(f'./results/generated_bigrams.txt', 'w') as file_:\n",
    "    file_.write(generated_text)"
   ]
  },
  {
   "cell_type": "markdown",
   "metadata": {},
   "source": [
    "## Word Vectors\n",
    "Based on the Stanford course: https://web.stanford.edu/class/cs224n/"
   ]
  },
  {
   "cell_type": "markdown",
   "metadata": {},
   "source": [
    "### Count based W2V\n",
    "In this section, we use the previously trained **n-gram model** to calculate a **co-occurrence matrix**. A co-occurrence matrix shows how often words appear together within a specific context (in this case, bigrams), providing insights into word relationships in the corpus.\n",
    "\n",
    "Steps:\n",
    "1. **Tokenization and N-gram Generation**: We first tokenize the text and generate bigrams using the `NGramModel`.\n",
    "2. **Vocabulary and Indexing**: The vocabulary is created from the unique tokens, and a word-to-index mapping is established.\n",
    "3. **Co-occurrence Matrix**: Using the generated n-grams, we compute the co-occurrence matrix, where each entry represents how often two words occur together within the bigrams.\n",
    "\n",
    "The co-occurrence matrix provides a numerical representation of word relationships, which is useful for tasks like word embeddings, semantic analysis, and understanding word associations."
   ]
  },
  {
   "cell_type": "code",
   "execution_count": null,
   "metadata": {},
   "outputs": [],
   "source": [
    "# Since we already have a working ngram model, for the next part we can use the ngrams to calculate the co-occurences.\n",
    "model = NGramModel(corpus, 2)\n",
    "tokens = model.tokenize()\n",
    "ngrams = model.generate_ngrams(tokens)\n",
    "\n",
    "def create_co_matrix(ngrams: list, vocab_size: int, word_to_index: dict) -> np.ndarray:\n",
    "    raise NotImplementedError\n",
    "    return co_matrix\n",
    "\n",
    "vocab = list(set(tokens))\n",
    "vocab_size = len(vocab)\n",
    "\n",
    "# Create a word-to-index mapping\n",
    "word_to_index = {word: idx for idx, word in enumerate(vocab)}\n",
    "\n",
    "# Generate the co-occurrence matrix\n",
    "co_matrix = create_co_matrix(ngrams, vocab_size, word_to_index)\n",
    "\n",
    "# Optionally, print the matrix or parts of it\n",
    "print(co_matrix.value_counts())"
   ]
  },
  {
   "cell_type": "markdown",
   "metadata": {},
   "source": [
    "With the code below you can verify if the co-occurence works"
   ]
  },
  {
   "cell_type": "code",
   "execution_count": null,
   "metadata": {},
   "outputs": [],
   "source": [
    "def check_co_occurrence(word1, word2, co_matrix, word_to_index):\n",
    "    \"\"\"\n",
    "    Print the co-occurrence count for a specific word pair.\n",
    "    \"\"\"\n",
    "    if word1 not in word_to_index or word2 not in word_to_index:\n",
    "        print(f\"One or both words '{word1}' and '{word2}' are not in the vocabulary.\")\n",
    "        return\n",
    "\n",
    "    index1 = word_to_index[word1]\n",
    "    index2 = word_to_index[word2]\n",
    "\n",
    "    co_count = co_matrix[index1][index2]\n",
    "    print(f\"Co-occurrence count for '{word1}' and '{word2}': {co_count}\")\n",
    "\n",
    "check_co_occurrence('the', 'jury', co_matrix, word_to_index)\n",
    "check_co_occurrence('the', 'cat', co_matrix, word_to_index)"
   ]
  },
  {
   "cell_type": "markdown",
   "metadata": {},
   "source": [
    "In this part, we reduce the dimensionality of the **co-occurrence matrix** using **Singular Value Decomposition (SVD)**. This technique helps in extracting the most important features from the matrix, making it easier to visualize and interpret the relationships between words.\n",
    "\n",
    "Steps:\n",
    "1. **Singular Value Decomposition (SVD)**: The co-occurrence matrix is decomposed into three matrices: \\( M = U \\cdot \\Sigma \\cdot V^T \\).\n",
    "2. **Dimensionality Reduction**: We retain only the top `k` components (default is 2) from the SVD, effectively reducing the dimensionality of the matrix.\n",
    "3. **Reduced Matrix**: The reduced matrix retains the most important semantic information and can be used for tasks such as **word embedding visualization** or **semantic similarity analysis**.\n",
    "\n",
    "Dimensionality reduction allows us to capture the essence of word relationships in fewer dimensions, making it more efficient to process and visualize the data."
   ]
  },
  {
   "cell_type": "code",
   "execution_count": null,
   "metadata": {},
   "outputs": [],
   "source": [
    "def reduce_to_k_dim(M, k=2):\n",
    "    raise NotImplementedError\n",
    "    return M_reduced"
   ]
  },
  {
   "cell_type": "markdown",
   "metadata": {},
   "source": [
    "In this final part, we visualize the reduced word embeddings in **2D space**. After reducing the dimensionality of the co-occurrence matrix using SVD, we plot the embeddings for each word to observe their relationships in a low-dimensional space.\n",
    "\n",
    "Steps:\n",
    "1. **Plotting the Embeddings**: Each word from the vocabulary is plotted based on its 2D coordinates from the reduced matrix.\n",
    "2. **Visualization**: The scatter plot allows us to see how words cluster together or relate to each other based on co-occurrences in the text. Words with similar contexts should appear closer to each other in the plot.\n",
    "3. **Interpretation**: By looking at the 2D plot, we can analyze word similarities, relationships, and clusters formed by words that often occur together.\n",
    "\n",
    "This visualization is a useful tool for understanding the structure of word embeddings and the relationships between words in the corpus.\n",
    "\n",
    "\n",
    "\n",
    "\n",
    "\n"
   ]
  },
  {
   "cell_type": "code",
   "execution_count": null,
   "metadata": {},
   "outputs": [],
   "source": [
    "def plot_embeddings():\n",
    "    raise NotImplementedError\n",
    "\n",
    "words = ['movie', 'book', 'mysterious', 'story', 'fascinating', 'good', 'interesting', 'large', 'massive', 'huge']\n",
    "\n",
    "plot_embeddings(M_reduced, vocab)"
   ]
  },
  {
   "cell_type": "markdown",
   "metadata": {},
   "source": [
    "## Prediction-Based Word Vectors\n",
    "In this section, we load pre-trained word vectors using the **GloVe** embeddings from the [Stanford NLP paper on GloVe](https://nlp.stanford.edu/pubs/glove.pdf). The pre-trained embeddings provide rich semantic information about words based on large text corpora, allowing us to represent words as vectors that capture their meaning and relationships.\n",
    "\n",
    "Steps:\n",
    "1. **Load GloVe Word Vectors**: We use the GloVe embeddings from the `glove-wiki-gigaword-200` model, which has 200-dimensional vectors for each word.\n",
    "2. **Vocabulary Matching**: We map the words from our corpus to the GloVe vocabulary and extract the corresponding vectors.\n",
    "3. **Dimensionality Reduction**: After obtaining the word vectors, we reduce the dimensionality to visualize the embeddings in 2D space, allowing us to explore word relationships visually.\n",
    "\n",
    "This is an excellent opportunity to explore how pre-trained embeddings like GloVe can be used to improve downstream NLP tasks by providing richer word representations."
   ]
  },
  {
   "cell_type": "code",
   "execution_count": null,
   "metadata": {},
   "outputs": [],
   "source": [
    "# Do not edit\n",
    "import gensim.downloader as api\n",
    "import numpy as np\n",
    "wv_from_bin = api.load(\"glove-wiki-gigaword-200\")\n",
    "print(\"Loaded vocab size %i\" % len(list(wv_from_bin.index_to_key)))\n",
    "\n",
    "wv_words = list(wv_from_bin.index_to_key)\n",
    "unique_tokens = set(tokens)\n",
    "word2ind = {}\n",
    "M = []\n",
    "idx = 0\n",
    "print('rendering M based on wv')\n",
    "for w in wv_words:\n",
    "    try:\n",
    "        M.append(wv_from_bin.get_vector(w))\n",
    "        word2ind[w] = idx\n",
    "        idx += 1\n",
    "    except:\n",
    "        pass\n",
    "\n",
    "print('rendering M based on unique_tokens')\n",
    "for w in unique_tokens:\n",
    "    if w in wv_words:\n",
    "        continue\n",
    "    try:\n",
    "        M.append(wv_from_bin.get_vector(w))\n",
    "        word2ind[w] = idx\n",
    "        idx += 1\n",
    "    except:\n",
    "        pass\n",
    "M = np.stack(M)\n",
    "M_reduced = reduce_to_k_dim(M, k=2)\n",
    "\n",
    "M_lengths = np.linalg.norm(M_reduced, axis=1)\n",
    "M_reduced_normalized = M_reduced / M_lengths[:, np.newaxis]"
   ]
  },
  {
   "cell_type": "markdown",
   "metadata": {},
   "source": [
    "### Compare plots\n",
    "What stands out when comparing the two different ways of embedding using the given words?\n",
    "\n",
    "(Use this to help answer the question in your assignment document)."
   ]
  },
  {
   "cell_type": "code",
   "execution_count": null,
   "metadata": {},
   "outputs": [],
   "source": [
    "plot_embeddings(M_reduced_normalized, tokens)"
   ]
  },
  {
   "cell_type": "markdown",
   "metadata": {},
   "source": [
    "### Words with multiple meanings\n",
    "Polysemes and homonyms are words that have more than one meaning (see [this wiki page](https://en.wikipedia.org/wiki/Polysemy) to learn more about the difference between polysemes and homonyms). Your task is to find a word with at least two different meanings such that the top-10 most similar words (according to cosine similarity) contain related words from both meanings.\n",
    "\n",
    "For example:\n",
    "- \"leaves\" has both the \"go_away\" and \"a_structure_of_a_plant\" meanings in the top 10.\n",
    "- \"scoop\" has both \"handed_waffle_cone\" and \"lowdown\" meanings in the top 10.\n",
    "\n",
    "You will probably need to try several polysemous or homonymic words before you find one.\n",
    "\n",
    "Once you discover a word that fits this criterion, state the word and explain the multiple meanings that occur in the top 10. Reflect on why many of the polysemous or homonymic words you tried didn’t work (i.e., why the top-10 most similar words only contain one of the word's meanings).\n",
    "\n",
    "**Note**: Use the `wv_from_bin.most_similar(word)` function to get the top 10 most similar words. This function ranks all other words in the vocabulary based on their cosine similarity to the given word. For further assistance, you can refer to the [Gensim documentation](https://radimrehurek.com/gensim/models/keyedvectors.html)."
   ]
  },
  {
   "cell_type": "code",
   "execution_count": null,
   "metadata": {},
   "outputs": [],
   "source": [
    "## Your code here"
   ]
  },
  {
   "cell_type": "markdown",
   "metadata": {},
   "source": [
    "### Synonyms\n",
    "When considering **Cosine Similarity**, it's often useful to think of **Cosine Distance**, which is simply 1 - Cosine Similarity.\n",
    "\n",
    "Find three words \\( (w_1, w_2, w_3) \\) where:\n",
    "- \\(w_1\\) and \\(w_2\\) are **synonyms**.\n",
    "- \\(w_1\\) and \\(w_3\\) are **antonyms**.\n",
    "\n",
    "However, you need to find a case where **Cosine Distance** \\( (w_1, w_3) < \\text{Cosine Distance} (w_1, w_2) \\). In other words, the antonym is **closer** to the word than its synonym in the vector space.\n",
    "\n",
    "For example, \"happy\" (\\(w_1\\)) may be closer to \"sad\" (\\(w_3\\)) than to \"cheerful\" (\\(w_2\\)), which is counter-intuitive since we expect synonyms to be closer than antonyms. \n",
    "\n",
    "Once you find such an example, provide a possible explanation for why this result may have occurred.\n",
    "\n",
    "Use the `wv_from_bin.distance(w1, w2)` function to compute the cosine distance between two words. You can refer to the [Gensim documentation](https://radimrehurek.com/gensim/models/keyedvectors.html) for further assistance.\n",
    "\n",
    "\n",
    "\n",
    "\n",
    "\n"
   ]
  },
  {
   "cell_type": "code",
   "execution_count": null,
   "metadata": {},
   "outputs": [],
   "source": [
    "## Your code here"
   ]
  },
  {
   "cell_type": "markdown",
   "metadata": {},
   "source": [
    "### Analogies\n",
    "Word vectors have demonstrated the ability to solve analogies based on their learned semantic relationships. For instance, consider the analogy: \n",
    "\n",
    "**\"man : grandfather :: woman : x\"** \n",
    "\n",
    "(Read: man is to grandfather as woman is to x). Using word vectors, we can find the word \\(x\\) that completes the analogy.\n",
    "\n",
    "In the example provided, we use the `most_similar` function from the Gensim library. This function identifies words that are most similar to the words in the positive list and most dissimilar to those in the negative list. For analogy solving, it effectively computes:\n",
    "\n",
    "\\[ \\text{word}(x) = \\text{most similar to} (\\text{woman} + \\text{grandfather} - \\text{man}) \\]\n",
    "\n",
    "The result is the word with the highest cosine similarity to the target vector. You can use this approach to explore various analogies and gain insights into the semantic structure of word vectors.\n",
    "\n",
    "Refer to the [Gensim documentation](https://radimrehurek.com/gensim/models/keyedvectors.html) for more details on the `most_similar` function and how word vectors handle analogy-solving tasks."
   ]
  },
  {
   "cell_type": "code",
   "execution_count": null,
   "metadata": {},
   "outputs": [
    {
     "name": "stdout",
     "output_type": "stream",
     "text": [
      "[('grandmother', 0.7608445286750793), ('granddaughter', 0.7200808525085449), ('daughter', 0.7168302536010742), ('mother', 0.7151536345481873), ('niece', 0.7005682587623596), ('father', 0.6659887433052063), ('aunt', 0.6623408794403076), ('grandson', 0.6618767976760864), ('grandparents', 0.644661009311676), ('wife', 0.6445354223251343)]\n"
     ]
    }
   ],
   "source": [
    "# Run this cell to answer the analogy -- man : grandfather :: woman : x\n",
    "print(wv_from_bin.most_similar(positive=['woman', 'grandfather'], negative=['man']))"
   ]
  },
  {
   "cell_type": "markdown",
   "metadata": {},
   "source": [
    "### Bias in word vectors\n",
    "a. **Observation**: Consider the results of a word vector model when queried with analogies involving \"man\", \"woman\", and \"profession\". What are the top results returned by the model for each query?\n",
    "\n",
    "[Your Answer]\n",
    "\n",
    "b. **Analysis**: Do you observe any gender biases in the results? For example, are certain professions more closely associated with \"man\" or \"woman\" based on the word vectors? Discuss how word embeddings might perpetuate societal biases present in the training data.\n",
    "\n",
    "[Your Answer]\n",
    "\n",
    "c. **Reflection**: How might such biases affect the fairness of machine learning models that use word embeddings? Suggest potential strategies for mitigating gender bias in word vector models.\n",
    "\n",
    "[Your Answer]"
   ]
  },
  {
   "cell_type": "code",
   "execution_count": null,
   "metadata": {},
   "outputs": [],
   "source": [
    "print(wv_from_bin.most_similar(positive=['man', 'profession'], negative=['woman']))\n",
    "print()\n",
    "print(wv_from_bin.most_similar(positive=['woman', 'profession'], negative=['man']))"
   ]
  }
 ],
 "metadata": {
  "kernelspec": {
   "display_name": "midigpt",
   "language": "python",
   "name": "python3"
  },
  "language_info": {
   "codemirror_mode": {
    "name": "ipython",
    "version": 3
   },
   "file_extension": ".py",
   "mimetype": "text/x-python",
   "name": "python",
   "nbconvert_exporter": "python",
   "pygments_lexer": "ipython3",
   "version": "3.10.0"
  }
 },
 "nbformat": 4,
 "nbformat_minor": 2
}
