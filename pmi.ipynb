{
 "cells": [
  {
   "cell_type": "markdown",
   "metadata": {},
   "source": [
    "## Imports"
   ]
  },
  {
   "cell_type": "code",
   "execution_count": 4,
   "metadata": {},
   "outputs": [],
   "source": [
    "from collections import Counter, defaultdict # You may import more from collections if needed\n",
    "import matplotlib.pyplot as plt\n",
    "from nltk.corpus import brown\n",
    "import numpy as np\n",
    "import os"
   ]
  },
  {
   "cell_type": "markdown",
   "metadata": {},
   "source": [
    "## Load corpora"
   ]
  },
  {
   "cell_type": "code",
   "execution_count": 5,
   "metadata": {},
   "outputs": [],
   "source": [
    "corpus = ' '.join(brown.words())\n",
    "with open('./brown_100.txt', 'r') as file_:\n",
    "    mini_corpus = file_.read()"
   ]
  },
  {
   "cell_type": "markdown",
   "metadata": {},
   "source": [
    "## Define PMI/PPMI Calculator"
   ]
  },
  {
   "cell_type": "code",
   "execution_count": 21,
   "metadata": {},
   "outputs": [],
   "source": [
    "class PMICalculator:\n",
    "    def __init__(self, corpus: str, ppmi: bool = False):\n",
    "        self.corpus = corpus\n",
    "        self.words = corpus.split()\n",
    "        self.word_counts = Counter(self.words)\n",
    "        self.word_pairs = defaultdict(int)\n",
    "        self.total_words = len(self.words)\n",
    "        self.ppmi = ppmi\n",
    "        self.pmis = {}\n",
    "\n",
    "    def calculate_word_pairs(self):\n",
    "        \"\"\"\n",
    "        Formulate the word pairs in the corpus and store them in the self.word_pairs dictionary.\n",
    "        Also counts the number of times each word appears in the corpus.\n",
    "        \"\"\"\n",
    "        i = 0\n",
    "        while i < len(self.words) - 1:\n",
    "            # lowercase the words\n",
    "            word1 = self.words[i].lower()\n",
    "            word2 = self.words[i + 1].lower()\n",
    "\n",
    "            # only consider words that appear at least 10 times\n",
    "            if self.word_counts[word1] < 10 or self.word_counts[word2] < 10:\n",
    "                i += 1\n",
    "                continue\n",
    "\n",
    "            # skip if the word is a period and the next word is not the start token\n",
    "            if word2 == '.' and self.words[i + 2] != \"</s>\":\n",
    "                i += 2\n",
    "                continue\n",
    "\n",
    "            # if the end of the pair is an end token, count the pair but move on to the next line \n",
    "            elif word2 == \"</s>\":\n",
    "                self.word_pairs[(word1, word2)] += 1\n",
    "                i += 2\n",
    "                continue\n",
    "\n",
    "            # count the pair\n",
    "            self.word_pairs[(word1, word2)] += 1\n",
    "            i += 1\n",
    "\n",
    "    \n",
    "    def calculate_pmi(self):\n",
    "        \"\"\"\n",
    "        Calculates the PMI for each word pair in the corpus\n",
    "        \"\"\"\n",
    "        for word1, word2 in self.word_pairs:\n",
    "            count_word1 = self.word_counts[word1]\n",
    "            count_word2 = self.word_counts[word2]\n",
    "            count_word1_word2 = self.word_pairs[(word1, word2)]\n",
    "            \n",
    "            try:\n",
    "                pmi = np.log2(count_word1_word2 * self.total_words / (count_word1 * count_word2))\n",
    "            except Exception as e:\n",
    "                print(word1, word2)\n",
    "                print(count_word1, count_word2, count_word1_word2)\n",
    "                print(self.total_words)\n",
    "                print(e)\n",
    "                return 0.0\n",
    "            \n",
    "            # if we want PPMI, set PMI to 0 if it's negative\n",
    "            if self.ppmi:\n",
    "                pmi = max(0, pmi)\n",
    "            self.pmis[(word1, word2)] = pmi\n",
    "        return self.pmis\n",
    "    \n",
    "    def sorted_pmi_pairs(self, top_n = 10, reverse = True):\n",
    "        \"\"\"\n",
    "        Sorts the PMI pairs by PMI value. Returns the top N pairs if reverse is True, or the bottom N pairs if reverse is False\n",
    "        \"\"\"\n",
    "        pairs = list(self.pmis.items())\n",
    "        pairs.sort(key=lambda x: x[1], reverse=reverse)\n",
    "        return pairs[:top_n]"
   ]
  },
  {
   "cell_type": "markdown",
   "metadata": {},
   "source": [
    "## Use PMI Calculator"
   ]
  },
  {
   "cell_type": "markdown",
   "metadata": {},
   "source": [
    "### Calculate PMIs for full corpus"
   ]
  },
  {
   "cell_type": "code",
   "execution_count": null,
   "metadata": {},
   "outputs": [],
   "source": [
    "pmi_calculator = PMICalculator(corpus)\n",
    "pmi_calculator.calculate_word_pairs()\n",
    "pmi_calculator.calculate_pmi()"
   ]
  },
  {
   "cell_type": "markdown",
   "metadata": {},
   "source": [
    "#### Top 20 PMIs + Notes"
   ]
  },
  {
   "cell_type": "code",
   "execution_count": null,
   "metadata": {},
   "outputs": [],
   "source": [
    "top_pmi_pairs = pmi_calculator.sorted_pmi_pairs(20, reverse=True)\n",
    "for pair, pmi in top_pmi_pairs:\n",
    "    print(\"Pair: {} PMI: {}\".format(pair, pmi))"
   ]
  },
  {
   "cell_type": "markdown",
   "metadata": {},
   "source": [
    "##### Notes:\n",
    "- Pairs with highest PMI are mostly proper nouns or uncommon adjective/word pairs.\n",
    "- They are words that don't often appear by themselves\n",
    "- Some pairs like 'fake thearapeutic' and 'antenna beam' have the same PMI, indicating they occur with the same ratio of together/apartness"
   ]
  },
  {
   "cell_type": "markdown",
   "metadata": {},
   "source": [
    "#### Bottom 20 PMIs + Notes"
   ]
  },
  {
   "cell_type": "code",
   "execution_count": null,
   "metadata": {},
   "outputs": [],
   "source": [
    "bottom_pmi_pairs = pmi_calculator.sorted_pmi_pairs(20, reverse=False)\n",
    "for pair, pmi in bottom_pmi_pairs:\n",
    "    print(\"Pair: {} PMI: {}\".format(pair, pmi))"
   ]
  },
  {
   "cell_type": "markdown",
   "metadata": {},
   "source": [
    "##### Observations:\n",
    "- PMIs for the bottom pairs are all negative\n",
    "- they include words that are very common but do not go often together\n",
    "- 'of on' and 'on of' are two variations of the same permuation that have the same PMI"
   ]
  },
  {
   "cell_type": "markdown",
   "metadata": {},
   "source": [
    "### Calculate PMIs for mini corpus"
   ]
  },
  {
   "cell_type": "code",
   "execution_count": null,
   "metadata": {},
   "outputs": [],
   "source": [
    "pmi_mini_corpus_calculator = PMICalculator(mini_corpus)\n",
    "pmi_mini_corpus_calculator.calculate_word_pairs()\n",
    "pmi_mini_corpus_calculator.calculate_pmi()"
   ]
  },
  {
   "cell_type": "markdown",
   "metadata": {},
   "source": [
    "#### Top 20 PMI pairs for mini corpus"
   ]
  },
  {
   "cell_type": "code",
   "execution_count": null,
   "metadata": {},
   "outputs": [],
   "source": [
    "top_pmi_pairs = pmi_mini_corpus_calculator.sorted_pmi_pairs(20, reverse=True)\n",
    "for pair, pmi in top_pmi_pairs:\n",
    "    print(\"Pair: {} PMI: {}\".format(pair, pmi))"
   ]
  },
  {
   "cell_type": "markdown",
   "metadata": {},
   "source": [
    "##### Observations:\n",
    "- contrary to the full corpus, the top PMI pairs for the mini corpus don't contain any proper nouns.\n",
    "- the top pairs seem to just be pairs that occur frequently together, not a discernable characteristic"
   ]
  },
  {
   "cell_type": "markdown",
   "metadata": {},
   "source": [
    "#### Bottom 20 PMI pairs for mini corpus"
   ]
  },
  {
   "cell_type": "code",
   "execution_count": null,
   "metadata": {},
   "outputs": [],
   "source": [
    "bottom_pmi_pairs = pmi_mini_corpus_calculator.sorted_pmi_pairs(20, reverse=False)\n",
    "for pair, pmi in bottom_pmi_pairs:\n",
    "    print(\"Pair: {} PMI: {}\".format(pair, pmi))"
   ]
  },
  {
   "cell_type": "markdown",
   "metadata": {},
   "source": [
    "##### Observations:\n",
    "- while still uncommon paris, the bottom PMIs for the mini corpus are not so strange as those for the full corpus"
   ]
  },
  {
   "cell_type": "markdown",
   "metadata": {},
   "source": [
    "### Calculate PPMIs for full corpus"
   ]
  },
  {
   "cell_type": "code",
   "execution_count": null,
   "metadata": {},
   "outputs": [],
   "source": [
    "ppmi_full_corpus_calculator = PMICalculator(corpus, ppmi=True)\n",
    "ppmi_full_corpus_calculator.calculate_word_pairs()\n",
    "ppmi_full_corpus_calculator.calculate_pmi()"
   ]
  },
  {
   "cell_type": "markdown",
   "metadata": {},
   "source": [
    "#### Top PPMI pairs for full corpus"
   ]
  },
  {
   "cell_type": "code",
   "execution_count": null,
   "metadata": {},
   "outputs": [],
   "source": [
    "top_ppmi_pairs = ppmi_full_corpus_calculator.sorted_pmi_pairs(20, reverse=True)\n",
    "for pair, pmi in top_ppmi_pairs:\n",
    "    print(\"Pair: {} PMI: {}\".format(pair, pmi))"
   ]
  },
  {
   "cell_type": "markdown",
   "metadata": {},
   "source": [
    "##### Observations:\n",
    "- the top PPMI pairs look exactly the same as the PMI pairs"
   ]
  },
  {
   "cell_type": "code",
   "execution_count": null,
   "metadata": {},
   "outputs": [],
   "source": [
    "bottom_ppmi_pairs = ppmi_full_corpus_calculator.sorted_pmi_pairs(20, reverse=False)\n",
    "for pair, pmi in bottom_ppmi_pairs:\n",
    "    print(\"Pair: {} PMI: {}\".format(pair, pmi))"
   ]
  },
  {
   "cell_type": "markdown",
   "metadata": {},
   "source": [
    "##### Observations:\n",
    "- the scores of the bottom pairs are indistinguishable from each other, they are all 0"
   ]
  },
  {
   "cell_type": "markdown",
   "metadata": {},
   "source": [
    "### Calculate PPMIs for mini corpus"
   ]
  },
  {
   "cell_type": "code",
   "execution_count": null,
   "metadata": {},
   "outputs": [],
   "source": [
    "ppmi_mini_corpus_calculator = PMICalculator(mini_corpus, ppmi=True)\n",
    "ppmi_mini_corpus_calculator.calculate_word_pairs()\n",
    "ppmi_mini_corpus_calculator.calculate_pmi()"
   ]
  },
  {
   "cell_type": "code",
   "execution_count": null,
   "metadata": {},
   "outputs": [],
   "source": [
    "top_ppmi_pairs = ppmi_mini_corpus_calculator.sorted_pmi_pairs(20, reverse=True)\n",
    "for pair, pmi in top_ppmi_pairs:\n",
    "    print(\"Pair: {} PMI: {}\".format(pair, pmi))"
   ]
  },
  {
   "cell_type": "markdown",
   "metadata": {},
   "source": [
    "##### Observations\n",
    "- the top PPMIs are different than from the full corpus, and the PMI scores are smaller\n",
    "- none of the top pairs are proper nouns as seen in the full corpus"
   ]
  },
  {
   "cell_type": "code",
   "execution_count": null,
   "metadata": {},
   "outputs": [],
   "source": [
    "bottom_ppmi_pairs = ppmi_mini_corpus_calculator.sorted_pmi_pairs(20, reverse=False)\n",
    "for pair, pmi in bottom_ppmi_pairs:\n",
    "    print(\"Pair: {} PMI: {}\".format(pair, pmi))"
   ]
  },
  {
   "cell_type": "markdown",
   "metadata": {},
   "source": [
    "##### Observations\n",
    "- Not all of the bottom pairs have PPMI values of 0, as seen in the full corpus\n",
    "- The bottom pairs did not change much.\n",
    "- While not super common, none of the bottom pairs in the mini corpus are super uncommon either"
   ]
  }
 ],
 "metadata": {
  "kernelspec": {
   "display_name": "nlp_venv",
   "language": "python",
   "name": "python3"
  },
  "language_info": {
   "codemirror_mode": {
    "name": "ipython",
    "version": 3
   },
   "file_extension": ".py",
   "mimetype": "text/x-python",
   "name": "python",
   "nbconvert_exporter": "python",
   "pygments_lexer": "ipython3",
   "version": "3.10.16"
  }
 },
 "nbformat": 4,
 "nbformat_minor": 2
}
